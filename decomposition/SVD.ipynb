{
 "cells": [
  {
   "cell_type": "markdown",
   "metadata": {},
   "source": [
    "# SVD : Singular value decomposition"
   ]
  },
  {
   "cell_type": "markdown",
   "metadata": {},
   "source": [
    "## References\n",
    "\n",
    "이론\n",
    "\n",
    "* [wikipedia/Singular value decomposition](https://en.wikipedia.org/wiki/Singular_value_decomposition)\n",
    "* 공돌이의 수학정리노트\n",
    "  - [4. 선형대수학 / 10 특이값분해 (SVD)](https://wikidocs.net/25820)\n",
    "  - [특이값 분해(SVD)의 기하학적 의미와 활용 소개](https://www.youtube.com/watch?v=cq5qlYtnLoY&t=1072s)\n",
    "* ETC\n",
    "  - [SVD와 PCA, 그리고 잠재의미분석(LSA)](https://ratsgo.github.io/from%20frequency%20to%20semantics/2017/04/06/pcasvdlsa/)\n",
    "  - [다크프로그래머/특이값 분해(Singular Value Decomposition, SVD)의 활용](https://darkpgmr.tistory.com/106)\n",
    "  - [Relationship between SVD and PCA. How to use SVD to perform PCA?](https://stats.stackexchange.com/questions/134282/relationship-between-svd-and-pca-how-to-use-svd-to-perform-pca)\n",
    "  - [Deep Learning Book Series / 2.8 Singular Value Decomposition](https://hadrienj.github.io/posts/Deep-Learning-Book-Series-2.8-Singular-Value-Decomposition/)\n",
    "  - [Text Mining 101: A Stepwise Introduction to Topic Modeling using Latent Semantic Analysis (using Python)](https://www.analyticsvidhya.com/blog/2018/10/stepwise-guide-topic-modeling-latent-semantic-analysis/)\n",
    "  \n",
    "코드\n",
    "\n",
    "* [Towards data science/My Notes for Singular Value Decomposition with Interactive Code (feat Peter Mills)](https://towardsdatascience.com/my-notes-for-singular-value-decomposition-with-interactive-code-feat-peter-mills-7584f4f2930a)\n",
    "  - [codes](https://colab.research.google.com/drive/1iXxVkDRdwSXnkTDllKEupNmfNGIwjyLn)"
   ]
  },
  {
   "cell_type": "markdown",
   "metadata": {},
   "source": [
    "$$\n",
    "AV = US\n",
    "$$\n",
    "\n",
    "$$\n",
    "∴ A = USV^T\n",
    "$$"
   ]
  },
  {
   "cell_type": "markdown",
   "metadata": {},
   "source": [
    "U와 V는 아래와 같이 되므로 eigen decomposition을 통해 구할 수 있다. \n",
    "\n",
    "$$\n",
    "A^T = (USV^T)^T = VS^TU^T\n",
    "$$\n",
    "\n",
    "\n",
    "$$\n",
    "AA^T = USV^TVS^TU^T = USS^TU^T = US^2U^T\n",
    "$$\n",
    "\n",
    "$$\n",
    "A^TA = VS^2V\n",
    "$$"
   ]
  },
  {
   "cell_type": "markdown",
   "metadata": {},
   "source": [
    "가장 위의 식은 아래와 같이 쓸 수 있다. 이것은 $U^T$(m,m)를 $A$(m,n)라는 가중치를 주어 선형변환 하였을 때,$S$(m,n)만큼 길이가 변한 상태에서 $V^T$(n,n)가 존재한다는 의미로 풀이할 수 있다. \n",
    "\n",
    "$$\n",
    "U^TA = SV^T\n",
    "$$"
   ]
  },
  {
   "cell_type": "markdown",
   "metadata": {},
   "source": [
    "## 1. Data"
   ]
  },
  {
   "cell_type": "code",
   "execution_count": 1,
   "metadata": {},
   "outputs": [
    {
     "name": "stdout",
     "output_type": "stream",
     "text": [
      "[[  0.26374773   2.60321701  -3.95145542  -2.04300905 -12.71632655]\n",
      " [-25.9687863    2.89680912  -8.73304644   3.94072657   9.35105544]\n",
      " [ -0.15684708   2.59595966 -14.73314241   8.01926596 -17.50752387]\n",
      " [ -4.95051931 -10.08600809   0.25244186  -1.21506855 -15.46873182]]\n"
     ]
    }
   ],
   "source": [
    "import numpy as np\n",
    "\n",
    "np.random.seed(45)\n",
    "A = np.random.randn(4, 5) * 10\n",
    "print(A)"
   ]
  },
  {
   "cell_type": "markdown",
   "metadata": {},
   "source": [
    "## 2. Get S, U and V"
   ]
  },
  {
   "cell_type": "code",
   "execution_count": 2,
   "metadata": {},
   "outputs": [],
   "source": [
    "temp = A.dot(A.T)\n",
    "eig_value, eig_vector = np.linalg.eig( temp )\n",
    "\n",
    "U = eig_vector\n",
    "S = np.diag( np.sqrt( eig_value ) )\n",
    "V = A.T.dot( U ).dot( np.linalg.inv(S) )\n"
   ]
  },
  {
   "cell_type": "code",
   "execution_count": 3,
   "metadata": {},
   "outputs": [
    {
     "name": "stdout",
     "output_type": "stream",
     "text": [
      "Original Matrix A: \n",
      " [[  0.26374773   2.60321701  -3.95145542  -2.04300905 -12.71632655]\n",
      " [-25.9687863    2.89680912  -8.73304644   3.94072657   9.35105544]\n",
      " [ -0.15684708   2.59595966 -14.73314241   8.01926596 -17.50752387]\n",
      " [ -4.95051931 -10.08600809   0.25244186  -1.21506855 -15.46873182]]\n",
      "\n",
      "Created Matrix U: \n",
      " [[ 0.36248623 -0.21169502  0.90742112 -0.01938732]\n",
      " [-0.65876953 -0.74318275  0.09134238  0.07320302]\n",
      " [ 0.53402233 -0.56792374 -0.35681554 -0.51474796]\n",
      " [ 0.38658323 -0.28342062 -0.20230215  0.85399063]]\n",
      "\n",
      "Created Matrix S: \n",
      " [[30.60369609  0.          0.          0.        ]\n",
      " [ 0.         28.67313561  0.          0.        ]\n",
      " [ 0.          0.          5.86754412  0.        ]\n",
      " [ 0.          0.          0.         14.79497474]]\n",
      "\n",
      "Created Matrix V: \n",
      " [[ 0.49685183  0.72318133 -0.18325457 -0.40912996]\n",
      " [-0.11362943 -0.04602465  0.63756793 -0.66157839]\n",
      " [-0.11271581  0.54484822  0.1401972   0.4891364 ]\n",
      " [ 0.01555854 -0.23388238 -0.70037853 -0.32696753]\n",
      " [-0.85280695  0.35118364 -0.22302369 -0.22082693]]\n",
      "\n"
     ]
    }
   ],
   "source": [
    "print( \"Original Matrix A: \\n\", A, end=\"\\n\\n\" )\n",
    "print( \"Created Matrix U: \\n\", U, end=\"\\n\\n\" )\n",
    "print( \"Created Matrix S: \\n\", S, end=\"\\n\\n\" )\n",
    "print( \"Created Matrix V: \\n\", V, end=\"\\n\\n\" )\n"
   ]
  },
  {
   "cell_type": "markdown",
   "metadata": {},
   "source": [
    "## 3. Reconstruct\n",
    "\n",
    "본래 데이터 A와 같은 결과를 얻을 수 있다. "
   ]
  },
  {
   "cell_type": "code",
   "execution_count": 4,
   "metadata": {},
   "outputs": [
    {
     "name": "stdout",
     "output_type": "stream",
     "text": [
      "Original Matrix A: \n",
      " [[  0.26374773   2.60321701  -3.95145542  -2.04300905 -12.71632655]\n",
      " [-25.9687863    2.89680912  -8.73304644   3.94072657   9.35105544]\n",
      " [ -0.15684708   2.59595966 -14.73314241   8.01926596 -17.50752387]\n",
      " [ -4.95051931 -10.08600809   0.25244186  -1.21506855 -15.46873182]]\n",
      "\n",
      "ReConstructed Matrix: \n",
      " [[  0.26374773   2.60321701  -3.95145542  -2.04300905 -12.71632655]\n",
      " [-25.9687863    2.89680912  -8.73304644   3.94072657   9.35105544]\n",
      " [ -0.15684708   2.59595966 -14.73314241   8.01926596 -17.50752387]\n",
      " [ -4.95051931 -10.08600809   0.25244186  -1.21506855 -15.46873182]]\n",
      "\n"
     ]
    }
   ],
   "source": [
    "reconstructed = np.dot( U, S ).dot( V.T )\n",
    "print( \"Original Matrix A: \\n\", A, end=\"\\n\\n\" )\n",
    "print( \"ReConstructed Matrix: \\n\", reconstructed, end=\"\\n\\n\" )"
   ]
  },
  {
   "cell_type": "markdown",
   "metadata": {},
   "source": [
    "## 4. Truncated SVD"
   ]
  },
  {
   "cell_type": "markdown",
   "metadata": {},
   "source": [
    "아래와 같다. $A$(m,n)에 $V$(n,n)라는 가중치를 주어 선형변환시켜 변형시키는 구조이다. \n",
    "\n",
    "$U$는 (m,n) 차원의 diagonal matrix이므로, 원하는 (i,i) 차원 만큼만 취하여 $S$와의 내적을 구하면 i차원으로 차원을 축소시키는 효과를 얻을 수 있다. \n",
    "\n",
    "$$\n",
    "AV = US\n",
    "$$\n",
    "\n",
    "$$\n",
    "US → U^\\prime S^\\prime\n",
    "$$"
   ]
  },
  {
   "cell_type": "markdown",
   "metadata": {},
   "source": [
    "![](images/TruncatedSVD.png)"
   ]
  },
  {
   "cell_type": "code",
   "execution_count": 5,
   "metadata": {},
   "outputs": [],
   "source": [
    "dim = 2\n",
    "U_prime = U[:, :dim]\n",
    "S_prime = S[ :dim, :dim ]\n",
    "V_prime = V[:, :dim]\n",
    "\n",
    "decomposed1 = np.dot( U_prime , S_prime )\n",
    "decomposed2 = np.dot( A , V_prime )"
   ]
  },
  {
   "cell_type": "code",
   "execution_count": 6,
   "metadata": {},
   "outputs": [
    {
     "name": "stdout",
     "output_type": "stream",
     "text": [
      "Original Matrix A: \n",
      " [[  0.26374773   2.60321701  -3.95145542  -2.04300905 -12.71632655]\n",
      " [-25.9687863    2.89680912  -8.73304644   3.94072657   9.35105544]\n",
      " [ -0.15684708   2.59595966 -14.73314241   8.01926596 -17.50752387]\n",
      " [ -4.95051931 -10.08600809   0.25244186  -1.21506855 -15.46873182]]\n",
      "\n",
      "Decomposed Matrix1: \n",
      " [[ 11.09341838  -6.06996015]\n",
      " [-20.16078246 -21.30937968]\n",
      " [ 16.34305697 -16.28415434]\n",
      " [ 11.83087583  -8.12655799]]\n",
      "\n",
      "Decomposed Matrix2: \n",
      " [[ 11.09341838  -6.06996015]\n",
      " [-20.16078246 -21.30937968]\n",
      " [ 16.34305697 -16.28415434]\n",
      " [ 11.83087583  -8.12655799]]\n",
      "\n",
      "Singular Values:  [30.60369609 28.67313561]\n"
     ]
    }
   ],
   "source": [
    "print( \"Original Matrix A: \\n\", A, end=\"\\n\\n\" )\n",
    "print( \"Decomposed Matrix1: \\n\", decomposed1, end=\"\\n\\n\" )\n",
    "print( \"Decomposed Matrix2: \\n\", decomposed2, end=\"\\n\\n\" )\n",
    "# print( \"Explained Variance Ratio: \", ??? ) \n",
    "print( \"Singular Values: \", np.diag( S_prime ) )  # diagonal vector of S"
   ]
  },
  {
   "cell_type": "markdown",
   "metadata": {},
   "source": [
    "### TruncatedSVD via sci-kit learn\n",
    "\n",
    "sci-kit learn library를 이용하면 간단하게 구할 수 있다. "
   ]
  },
  {
   "cell_type": "code",
   "execution_count": 7,
   "metadata": {},
   "outputs": [
    {
     "name": "stdout",
     "output_type": "stream",
     "text": [
      "Original Matrix A: \n",
      " [[  0.26374773   2.60321701  -3.95145542  -2.04300905 -12.71632655]\n",
      " [-25.9687863    2.89680912  -8.73304644   3.94072657   9.35105544]\n",
      " [ -0.15684708   2.59595966 -14.73314241   8.01926596 -17.50752387]\n",
      " [ -4.95051931 -10.08600809   0.25244186  -1.21506855 -15.46873182]]\n",
      "\n",
      "Decomposed Matrix: \n",
      " [[-11.09341838   6.06996015]\n",
      " [ 20.16078246  21.30937968]\n",
      " [-16.34305697  16.28415434]\n",
      " [-11.83087583   8.12655799]]\n",
      "\n",
      "Explained Variance Ratio:  [0.68164525 0.12224341]\n",
      "Singular Values:  [30.60369609 28.67313561]\n"
     ]
    }
   ],
   "source": [
    "from sklearn.decomposition import TruncatedSVD\n",
    "\n",
    "svd = TruncatedSVD( n_components=2, n_iter=10, random_state=42 )\n",
    "decomposed_skl = svd.fit_transform( A )\n",
    "\n",
    "print( \"Original Matrix A: \\n\", A, end=\"\\n\\n\" )\n",
    "print( \"Decomposed Matrix: \\n\", decomposed_skl, end=\"\\n\\n\" )\n",
    "print( \"Explained Variance Ratio: \", svd.explained_variance_ratio_ ) \n",
    "print( \"Singular Values: \", svd.singular_values_ )  # diagonal vector of S\n"
   ]
  },
  {
   "cell_type": "code",
   "execution_count": null,
   "metadata": {},
   "outputs": [],
   "source": []
  },
  {
   "cell_type": "markdown",
   "metadata": {},
   "source": [
    "## 5. Bonus\n"
   ]
  },
  {
   "cell_type": "markdown",
   "metadata": {},
   "source": [
    "### 1. SVD via NumPy"
   ]
  },
  {
   "cell_type": "code",
   "execution_count": 8,
   "metadata": {},
   "outputs": [
    {
     "name": "stdout",
     "output_type": "stream",
     "text": [
      "(4, 4) (4,) (5, 5)\n"
     ]
    }
   ],
   "source": [
    "import numpy as np\n",
    "U, s, Vh = np.linalg.svd( A, full_matrices=True )\n",
    "print( U.shape, s.shape, Vh.shape )"
   ]
  },
  {
   "cell_type": "code",
   "execution_count": 9,
   "metadata": {},
   "outputs": [],
   "source": [
    "s_mat = np.zeros( A.shape, dtype=complex)\n",
    "s_mat[ :s.shape[0], :s.shape[0] ] = np.diag( s )"
   ]
  },
  {
   "cell_type": "code",
   "execution_count": 10,
   "metadata": {},
   "outputs": [
    {
     "name": "stdout",
     "output_type": "stream",
     "text": [
      "Original Matrix A: \n",
      " [[  0.26374773   2.60321701  -3.95145542  -2.04300905 -12.71632655]\n",
      " [-25.9687863    2.89680912  -8.73304644   3.94072657   9.35105544]\n",
      " [ -0.15684708   2.59595966 -14.73314241   8.01926596 -17.50752387]\n",
      " [ -4.95051931 -10.08600809   0.25244186  -1.21506855 -15.46873182]]\n",
      "\n",
      "ReConstructed Matrix: \n",
      " [[  0.26374773+0.j   2.60321701+0.j  -3.95145542+0.j  -2.04300905+0.j\n",
      "  -12.71632655+0.j]\n",
      " [-25.9687863 +0.j   2.89680912+0.j  -8.73304644+0.j   3.94072657+0.j\n",
      "    9.35105544+0.j]\n",
      " [ -0.15684708+0.j   2.59595966+0.j -14.73314241+0.j   8.01926596+0.j\n",
      "  -17.50752387+0.j]\n",
      " [ -4.95051931+0.j -10.08600809+0.j   0.25244186+0.j  -1.21506855+0.j\n",
      "  -15.46873182+0.j]]\n",
      "\n",
      "ReConstructed Matrix: \n",
      " [[  0.26374773+0.j   2.60321701+0.j  -3.95145542+0.j  -2.04300905+0.j\n",
      "  -12.71632655+0.j]\n",
      " [-25.9687863 +0.j   2.89680912+0.j  -8.73304644+0.j   3.94072657+0.j\n",
      "    9.35105544+0.j]\n",
      " [ -0.15684708+0.j   2.59595966+0.j -14.73314241+0.j   8.01926596+0.j\n",
      "  -17.50752387+0.j]\n",
      " [ -4.95051931+0.j -10.08600809+0.j   0.25244186+0.j  -1.21506855+0.j\n",
      "  -15.46873182+0.j]]\n",
      "\n"
     ]
    }
   ],
   "source": [
    "reconstructed1 = np.dot( U, np.dot(s_mat, Vh ))\n",
    "reconstructed2 = np.dot( np.dot(U, s_mat), Vh )\n",
    "\n",
    "print( \"Original Matrix A: \\n\", A, end=\"\\n\\n\" )\n",
    "print( \"ReConstructed Matrix: \\n\", reconstructed1, end=\"\\n\\n\" )\n",
    "print( \"ReConstructed Matrix: \\n\", reconstructed2, end=\"\\n\\n\" )"
   ]
  },
  {
   "cell_type": "code",
   "execution_count": 11,
   "metadata": {},
   "outputs": [
    {
     "name": "stdout",
     "output_type": "stream",
     "text": [
      "Decomposed Matrix: \n",
      " [[-11.09341838   6.06996015]\n",
      " [ 20.16078246  21.30937968]\n",
      " [-16.34305697  16.28415434]\n",
      " [-11.83087583   8.12655799]]\n",
      "\n"
     ]
    }
   ],
   "source": [
    "dim = 2\n",
    "U_prime = U[:, :dim]\n",
    "S_prime = S[ :dim, :dim ]\n",
    "decomposed = np.dot( U_prime , S_prime )\n",
    "print( \"Decomposed Matrix: \\n\", decomposed, end=\"\\n\\n\" )\n"
   ]
  },
  {
   "cell_type": "code",
   "execution_count": null,
   "metadata": {},
   "outputs": [],
   "source": []
  },
  {
   "cell_type": "markdown",
   "metadata": {},
   "source": [
    "### 2. Approch via eigenvalue and eigenvector"
   ]
  },
  {
   "cell_type": "code",
   "execution_count": 12,
   "metadata": {},
   "outputs": [],
   "source": [
    "import numpy as np\n",
    "\n",
    "data_1 = np.array([\n",
    "    [3,1,1],\n",
    "    [-1,3,1]\n",
    "])\n",
    "\n",
    "w_1_1 = data_1.dot( data_1.T )\n",
    "eig_value_1_1, eig_vector_1_1 = np.linalg.eigh( w_1_1 )\n",
    "\n",
    "w_1_2 = data_1.T.dot( data_1 )\n",
    "eig_value_1_2, eig_vector_1_2 = np.linalg.eigh( w_1_2 )\n"
   ]
  },
  {
   "cell_type": "code",
   "execution_count": 13,
   "metadata": {},
   "outputs": [
    {
     "name": "stdout",
     "output_type": "stream",
     "text": [
      "Original Data: \n",
      " [[ 3  1  1]\n",
      " [-1  3  1]]\n",
      "\n",
      "dot( A, A.T ) Eigen Value: \n",
      " [10. 12.]\n",
      "\n",
      "dot( A, A.T ) Eigen Vector: \n",
      " [[-0.70710678  0.70710678]\n",
      " [ 0.70710678  0.70710678]]\n",
      "\n",
      "dot( A.T, A ) Eigen Value: \n",
      " [-2.25970772e-15  1.00000000e+01  1.20000000e+01]\n",
      "\n",
      "dot( A.T, A ) Eigen Vector: \n",
      " [[-1.82574186e-01  8.94427191e-01 -4.08248290e-01]\n",
      " [-3.65148372e-01 -4.47213595e-01 -8.16496581e-01]\n",
      " [ 9.12870929e-01  2.77555756e-16 -4.08248290e-01]]\n",
      "\n"
     ]
    }
   ],
   "source": [
    "print(\"Original Data: \\n\", data_1, end=\"\\n\\n\" )\n",
    "print(\"dot( A, A.T ) Eigen Value: \\n\", eig_value_1_1, end=\"\\n\\n\" )\n",
    "print(\"dot( A, A.T ) Eigen Vector: \\n\", eig_vector_1_1, end=\"\\n\\n\" )\n",
    "print(\"dot( A.T, A ) Eigen Value: \\n\", eig_value_1_2, end=\"\\n\\n\" )\n",
    "print(\"dot( A.T, A ) Eigen Vector: \\n\", eig_vector_1_2, end=\"\\n\\n\" )\n"
   ]
  },
  {
   "cell_type": "code",
   "execution_count": 14,
   "metadata": {},
   "outputs": [],
   "source": [
    "# Sort the eigen vector via the eigen value ranks\n",
    "\n",
    "idx_1_1 = eig_value_1_1.argsort()[::-1]\n",
    "eig_value_1_1 = eig_value_1_1[idx_1_1]\n",
    "eig_vector_1_1 = eig_vector_1_1[:, idx_1_1 ]\n",
    "\n",
    "idx_1_2 = eig_value_1_2.argsort()[::-1]\n",
    "eig_value_1_2 = eig_value_1_2[idx_1_2]\n",
    "eig_vector_1_2 = eig_vector_1_2[:, idx_1_2 ]\n"
   ]
  },
  {
   "cell_type": "code",
   "execution_count": 15,
   "metadata": {},
   "outputs": [
    {
     "name": "stdout",
     "output_type": "stream",
     "text": [
      "dot( A, A.T ) Eigen Value: \n",
      " [12. 10.]\n",
      "\n",
      "dot( A, A.T ) Eigen Vector: \n",
      " [[ 0.70710678 -0.70710678]\n",
      " [ 0.70710678  0.70710678]]\n",
      "\n",
      "dot( A.T, A ) Eigen Value: \n",
      " [ 1.20000000e+01  1.00000000e+01 -2.25970772e-15]\n",
      "\n",
      "dot( A.T, A ) Eigen Vector: \n",
      " [[-4.08248290e-01  8.94427191e-01 -1.82574186e-01]\n",
      " [-8.16496581e-01 -4.47213595e-01 -3.65148372e-01]\n",
      " [-4.08248290e-01  2.77555756e-16  9.12870929e-01]]\n",
      "\n"
     ]
    }
   ],
   "source": [
    "print(\"dot( A, A.T ) Eigen Value: \\n\", eig_value_1_1, end=\"\\n\\n\" )\n",
    "print(\"dot( A, A.T ) Eigen Vector: \\n\", eig_vector_1_1, end=\"\\n\\n\" )\n",
    "print(\"dot( A.T, A ) Eigen Value: \\n\", eig_value_1_2, end=\"\\n\\n\" )\n",
    "print(\"dot( A.T, A ) Eigen Vector: \\n\", eig_vector_1_2, end=\"\\n\\n\" )"
   ]
  },
  {
   "cell_type": "code",
   "execution_count": 16,
   "metadata": {},
   "outputs": [],
   "source": [
    "# Compare the eigen vectors and see if their non zero elements are equal\n",
    "rows_1_1 = np.nonzero( eig_value_1_1 )\n",
    "rows_1_2 = np.nonzero( eig_value_1_2 )\n",
    "non_zero_1_1 = eig_value_1_1[rows_1_1].copy()\n",
    "non_zero_1_2 = eig_value_1_2[rows_1_2].copy()\n"
   ]
  },
  {
   "cell_type": "code",
   "execution_count": 17,
   "metadata": {},
   "outputs": [
    {
     "name": "stdout",
     "output_type": "stream",
     "text": [
      "(array([0, 1], dtype=int64),)\n",
      "(array([0, 1, 2], dtype=int64),)\n",
      "[12. 10.]\n",
      "[ 1.20000000e+01  1.00000000e+01 -2.25970772e-15]\n"
     ]
    }
   ],
   "source": [
    "print( rows_1_1 )\n",
    "print( rows_1_2 )\n",
    "print( non_zero_1_1 )\n",
    "print( non_zero_1_2 )"
   ]
  },
  {
   "cell_type": "code",
   "execution_count": 18,
   "metadata": {},
   "outputs": [],
   "source": [
    "U_1 = eig_vector_1_1\n",
    "temp = np.diag( np.sqrt( non_zero_1_1 ) )\n",
    "S_1 = np.zeros_like( data_1 ).astype( np.float64 )\n",
    "S_1[ :temp.shape[0] , :temp.shape[1] ] = temp\n",
    "V_1 = eig_vector_1_2.T"
   ]
  },
  {
   "cell_type": "code",
   "execution_count": 19,
   "metadata": {},
   "outputs": [
    {
     "name": "stdout",
     "output_type": "stream",
     "text": [
      "Created Matrix U: \n",
      " [[ 0.70710678 -0.70710678]\n",
      " [ 0.70710678  0.70710678]]\n",
      "\n",
      "Created Matrix S: \n",
      " [[3.46410162 0.         0.        ]\n",
      " [0.         3.16227766 0.        ]]\n",
      "\n",
      "Created Matrix V: \n",
      " [[-4.08248290e-01 -8.16496581e-01 -4.08248290e-01]\n",
      " [ 8.94427191e-01 -4.47213595e-01  2.77555756e-16]\n",
      " [-1.82574186e-01 -3.65148372e-01  9.12870929e-01]]\n",
      "\n"
     ]
    }
   ],
   "source": [
    "print( \"Created Matrix U: \\n\", U_1, end=\"\\n\\n\" )\n",
    "print( \"Created Matrix S: \\n\", S_1, end=\"\\n\\n\" )\n",
    "print( \"Created Matrix V: \\n\", V_1, end=\"\\n\\n\" )"
   ]
  },
  {
   "cell_type": "code",
   "execution_count": 20,
   "metadata": {},
   "outputs": [],
   "source": [
    "reconstructed_1 = np.dot(U_1, S_1).dot(V_1)\n"
   ]
  },
  {
   "cell_type": "code",
   "execution_count": 21,
   "metadata": {},
   "outputs": [
    {
     "name": "stdout",
     "output_type": "stream",
     "text": [
      "Original Matrix: \n",
      " [[ 3  1  1]\n",
      " [-1  3  1]]\n",
      "\n",
      "Recunstructed Matrix: \n",
      " [[-3. -1. -1.]\n",
      " [ 1. -3. -1.]]\n",
      "\n"
     ]
    }
   ],
   "source": [
    "print(\"Original Matrix: \\n\", data_1, end=\"\\n\\n\" )\n",
    "print(\"Recunstructed Matrix: \\n\", reconstructed_1, end=\"\\n\\n\" )"
   ]
  },
  {
   "cell_type": "code",
   "execution_count": null,
   "metadata": {},
   "outputs": [],
   "source": []
  }
 ],
 "metadata": {
  "kernelspec": {
   "display_name": "Python 3",
   "language": "python",
   "name": "python3"
  },
  "language_info": {
   "codemirror_mode": {
    "name": "ipython",
    "version": 3
   },
   "file_extension": ".py",
   "mimetype": "text/x-python",
   "name": "python",
   "nbconvert_exporter": "python",
   "pygments_lexer": "ipython3",
   "version": "3.6.8"
  }
 },
 "nbformat": 4,
 "nbformat_minor": 2
}
