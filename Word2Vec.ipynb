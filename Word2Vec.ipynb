{
 "cells": [
  {
   "cell_type": "markdown",
   "metadata": {},
   "source": [
    "# Word2Vec Under the hood\n"
   ]
  },
  {
   "cell_type": "markdown",
   "metadata": {},
   "source": [
    "word2vec이 어떤게 구현되는지 알아보자. "
   ]
  },
  {
   "cell_type": "markdown",
   "metadata": {},
   "source": [
    "## References\n",
    "\n",
    "이론\n",
    "\n",
    "* [BEOMSU KIM /word2vec 관련 이론 정리](https://shuuki4.wordpress.com/2016/01/27/word2vec-%EA%B4%80%EB%A0%A8-%EC%9D%B4%EB%A1%A0-%EC%A0%95%EB%A6%AC/)\n",
    "\n",
    "코드\n",
    "\n",
    "* [Minsuk Heo 허민석](https://www.youtube.com/channel/UCxP77kNgVfiiG6CXZ5WMuAQ)\n",
    "  - [딥러닝 자연어처리 Word2Vec](https://www.youtube.com/watch?v=sY4YyacSsLc)\n",
    "  - [python_tutorial/data_science/nlp/word2vec_tensorflow.ipynb](https://github.com/minsuk-heo/python_tutorial/blob/master/data_science/nlp/word2vec_tensorflow.ipynb)★\n",
    "  \n",
    "* tensorflow tutorial\n",
    "  - [representation/word2vec](https://www.tensorflow.org/tutorials/representation/word2vec)\n",
    "  - [representation/word2vec 한글판](https://tensorflowkorea.gitbooks.io/tensorflow-kr/g3doc/tutorials/word2vec/)\n",
    "  - [tensorflow/models/tutorials/embedding](https://github.com/tensorflow/models/tree/master/tutorials/embedding)\n",
    "\n",
    "* ADVENTURES IN MACHINE LEARNING\n",
    "  - [Word2Vec word embedding tutorial in Python and TensorFlow](https://adventuresinmachinelearning.com/word2vec-tutorial-tensorflow/)"
   ]
  },
  {
   "cell_type": "markdown",
   "metadata": {},
   "source": [
    "## Input Data 준비하기"
   ]
  },
  {
   "cell_type": "code",
   "execution_count": 40,
   "metadata": {},
   "outputs": [],
   "source": [
    "raw_corpus = ['king is a strong man', \n",
    "          'queen is a wise woman', \n",
    "          'boy is a young man',\n",
    "          'girl is a young woman',\n",
    "          'prince is a young king',\n",
    "          'princess is a young queen',\n",
    "          'man is strong', \n",
    "          'woman is pretty',\n",
    "          'prince is a boy will be king',\n",
    "          'princess is a girl will be queen']\n",
    "\n",
    "WINDOW_SIZE = 2"
   ]
  },
  {
   "cell_type": "code",
   "execution_count": 41,
   "metadata": {},
   "outputs": [],
   "source": [
    "def remove_stop_words( line, stop_words_list ):\n",
    "    tmp = [ word for word in line.split() if word not in stop_words_list ]\n",
    "    return \" \".join( tmp )\n"
   ]
  },
  {
   "cell_type": "code",
   "execution_count": 42,
   "metadata": {},
   "outputs": [],
   "source": [
    "from collections import Counter\n",
    "\n",
    "def get_dicts( corpus ):\n",
    "    words = ( \" \".join( corpus ) ).split()\n",
    "    cnt = Counter( words )\n",
    "    dic = list( cnt.keys() )\n",
    "    return {\n",
    "        'cnt': cnt,\n",
    "        'dic': dic,\n",
    "        'dic2idx': dict( [ (w, i) for i, w in enumerate( dic ) ] ),\n",
    "        'frq': list( cnt.values() ),\n",
    "        'size': len( dic )\n",
    "    }"
   ]
  },
  {
   "cell_type": "code",
   "execution_count": 43,
   "metadata": {},
   "outputs": [],
   "source": [
    "def get_skip_gram( corpus, window_size ):\n",
    "    rst = []\n",
    "    for line in corpus:\n",
    "        words = line.split()\n",
    "        line_size = len( words )\n",
    "        for i, w in enumerate( words  ):\n",
    "            left_lim = max( i - window_size, 0 )\n",
    "            right_lim = min( i + window_size, line_size ) + 1\n",
    "            neighbors = words[ left_lim:right_lim ]\n",
    "            for neighbor in neighbors:\n",
    "                if w != neighbor : rst.append( ( w, neighbor) )\n",
    "    return rst\n"
   ]
  },
  {
   "cell_type": "code",
   "execution_count": 44,
   "metadata": {},
   "outputs": [
    {
     "name": "stdout",
     "output_type": "stream",
     "text": [
      "[('king', 'strong'), ('king', 'man'), ('strong', 'king'), ('strong', 'man'), ('man', 'king'), ('man', 'strong'), ('queen', 'wise'), ('queen', 'woman'), ('wise', 'queen'), ('wise', 'woman'), ('woman', 'queen'), ('woman', 'wise'), ('boy', 'young'), ('boy', 'man'), ('young', 'boy'), ('young', 'man'), ('man', 'boy'), ('man', 'young'), ('girl', 'young'), ('girl', 'woman'), ('young', 'girl'), ('young', 'woman'), ('woman', 'girl'), ('woman', 'young'), ('prince', 'young'), ('prince', 'king'), ('young', 'prince'), ('young', 'king'), ('king', 'prince'), ('king', 'young'), ('princess', 'young'), ('princess', 'queen'), ('young', 'princess'), ('young', 'queen'), ('queen', 'princess'), ('queen', 'young'), ('man', 'strong'), ('strong', 'man'), ('woman', 'pretty'), ('pretty', 'woman'), ('prince', 'boy'), ('prince', 'king'), ('boy', 'prince'), ('boy', 'king'), ('king', 'prince'), ('king', 'boy'), ('princess', 'girl'), ('princess', 'queen'), ('girl', 'princess'), ('girl', 'queen'), ('queen', 'princess'), ('queen', 'girl')]\n"
     ]
    }
   ],
   "source": [
    "stop_words_list = ['is', 'a', 'will', 'be']\n",
    "corpus = [ remove_stop_words( line, stop_words_list ) for line in raw_corpus ]\n",
    "dicts = get_dicts( corpus )\n",
    "skip_grams = get_skip_gram( corpus, WINDOW_SIZE )\n",
    "print(skip_grams)"
   ]
  },
  {
   "cell_type": "markdown",
   "metadata": {},
   "source": [
    "## 학습 준비하기"
   ]
  },
  {
   "cell_type": "code",
   "execution_count": 45,
   "metadata": {},
   "outputs": [],
   "source": [
    "import numpy as np\n",
    "\n",
    "def to_one_hot( idx, dim ):\n",
    "    one_hot = np.zeros( dim )\n",
    "    one_hot[ idx ] = 1\n",
    "    return one_hot\n",
    "\n"
   ]
  },
  {
   "cell_type": "code",
   "execution_count": 46,
   "metadata": {},
   "outputs": [],
   "source": [
    "ONE_HOT_DIM = dicts.get('size')\n",
    "\n",
    "X, Y = [], []\n",
    "for x, y in skip_grams:\n",
    "    X.append( to_one_hot( dicts.get('dic2idx')[ x ], ONE_HOT_DIM ) )\n",
    "    Y.append( to_one_hot( dicts.get('dic2idx')[ y ], ONE_HOT_DIM ) )\n"
   ]
  },
  {
   "cell_type": "markdown",
   "metadata": {},
   "source": [
    "### Define Tensor Graph "
   ]
  },
  {
   "cell_type": "code",
   "execution_count": 47,
   "metadata": {},
   "outputs": [],
   "source": [
    "import tensorflow as tf\n",
    "\n",
    "EMBEDDING_DIM = 2\n",
    "LEARNING_RATE = 0.05\n",
    "EPOCHS = 20000\n",
    "\n",
    "X_train = np.asarray(X)\n",
    "Y_train = np.asarray(Y)\n",
    "\n",
    "x = tf.placeholder( tf.float32, shape=( None, ONE_HOT_DIM ) )\n",
    "y_label = tf.placeholder( tf.float32, shape=( None, ONE_HOT_DIM ) )\n",
    "\n",
    "# Hidden Layer\n",
    "W1 = tf.Variable( tf.random_normal( [ ONE_HOT_DIM, EMBEDDING_DIM ] ) )\n",
    "b1 = tf.Variable( tf.random_normal( [1] ) )\n",
    "hidden_layer = tf.add( tf.matmul(x, W1), b1 )\n",
    "\n",
    "# Output Layer\n",
    "W2 = tf.Variable( tf.random_normal( [ EMBEDDING_DIM, ONE_HOT_DIM ] ) )\n",
    "b2 = tf.Variable( tf.random_normal( [1] ) )\n",
    "output_layer = tf.add( tf.matmul( hidden_layer, W2 ), b2 )\n",
    "\n",
    "# Activation Function\n",
    "prediction = tf.nn.softmax( output_layer )\n",
    "\n",
    "# Loss Function : cross entropy\n",
    "loss = tf.reduce_mean( -tf.reduce_sum( y_label * tf.log(prediction ), axis=[1] ) )\n",
    "\n",
    "train_op = tf.train.GradientDescentOptimizer( LEARNING_RATE ).minimize( loss )"
   ]
  },
  {
   "cell_type": "markdown",
   "metadata": {},
   "source": [
    "### Train"
   ]
  },
  {
   "cell_type": "code",
   "execution_count": 48,
   "metadata": {},
   "outputs": [
    {
     "name": "stdout",
     "output_type": "stream",
     "text": [
      "ITERATION 0 / Loss is :  3.4971507\n",
      "ITERATION 2000 / Loss is :  1.9030579\n",
      "ITERATION 4000 / Loss is :  1.8318492\n",
      "ITERATION 6000 / Loss is :  1.8036281\n",
      "ITERATION 8000 / Loss is :  1.7875571\n",
      "ITERATION 10000 / Loss is :  1.775905\n",
      "ITERATION 12000 / Loss is :  1.7657808\n",
      "ITERATION 14000 / Loss is :  1.7565522\n",
      "ITERATION 16000 / Loss is :  1.7485894\n",
      "ITERATION 18000 / Loss is :  1.74234\n"
     ]
    }
   ],
   "source": [
    "sess = tf.Session()\n",
    "init = tf.global_variables_initializer()\n",
    "sess.run( init )\n",
    "feed_dict = { x: X_train, y_label: Y_train }\n",
    "\n",
    "for i in range( EPOCHS ):\n",
    "    sess.run( train_op, feed_dict = feed_dict )\n",
    "    if i % 2000 == 0 :\n",
    "        print( \"Epochs \" + str(i) + \" / Loss is : \", sess.run( loss, feed_dict=feed_dict ) )\n",
    "\n"
   ]
  },
  {
   "cell_type": "markdown",
   "metadata": {},
   "source": [
    "## Word2Vec 도출"
   ]
  },
  {
   "cell_type": "code",
   "execution_count": 49,
   "metadata": {},
   "outputs": [
    {
     "name": "stdout",
     "output_type": "stream",
     "text": [
      "[[ 4.7780275e-03  1.0523497e+00]\n",
      " [-5.0781786e-01  6.9142127e+00]\n",
      " [ 1.3854557e-01  7.5698662e-01]\n",
      " [-1.0941539e+00 -3.0186993e-01]\n",
      " [-5.4804554e+00 -1.4451005e+00]\n",
      " [-4.7581014e-01 -5.9342837e-01]\n",
      " [-5.5942690e-01  2.1995111e+00]\n",
      " [-2.3880747e-01  1.5002263e-01]\n",
      " [-3.3036895e+00 -4.9603635e-01]\n",
      " [-1.7420025e+00  3.5040774e+00]\n",
      " [-2.7706466e+00 -1.0772343e+00]\n",
      " [-3.7491488e+00 -2.4490780e-01]]\n"
     ]
    }
   ],
   "source": [
    "vectors = sess.run( W1 + b1 )\n",
    "print( vectors )"
   ]
  },
  {
   "cell_type": "markdown",
   "metadata": {},
   "source": [
    "### DataFrame으로 표현"
   ]
  },
  {
   "cell_type": "code",
   "execution_count": 50,
   "metadata": {},
   "outputs": [
    {
     "data": {
      "text/html": [
       "<div>\n",
       "<style scoped>\n",
       "    .dataframe tbody tr th:only-of-type {\n",
       "        vertical-align: middle;\n",
       "    }\n",
       "\n",
       "    .dataframe tbody tr th {\n",
       "        vertical-align: top;\n",
       "    }\n",
       "\n",
       "    .dataframe thead th {\n",
       "        text-align: right;\n",
       "    }\n",
       "</style>\n",
       "<table border=\"1\" class=\"dataframe\">\n",
       "  <thead>\n",
       "    <tr style=\"text-align: right;\">\n",
       "      <th></th>\n",
       "      <th>word</th>\n",
       "      <th>x1</th>\n",
       "      <th>x2</th>\n",
       "    </tr>\n",
       "  </thead>\n",
       "  <tbody>\n",
       "    <tr>\n",
       "      <th>0</th>\n",
       "      <td>king</td>\n",
       "      <td>0.004778</td>\n",
       "      <td>1.052350</td>\n",
       "    </tr>\n",
       "    <tr>\n",
       "      <th>1</th>\n",
       "      <td>strong</td>\n",
       "      <td>-0.507818</td>\n",
       "      <td>6.914213</td>\n",
       "    </tr>\n",
       "    <tr>\n",
       "      <th>2</th>\n",
       "      <td>man</td>\n",
       "      <td>0.138546</td>\n",
       "      <td>0.756987</td>\n",
       "    </tr>\n",
       "    <tr>\n",
       "      <th>3</th>\n",
       "      <td>queen</td>\n",
       "      <td>-1.094154</td>\n",
       "      <td>-0.301870</td>\n",
       "    </tr>\n",
       "    <tr>\n",
       "      <th>4</th>\n",
       "      <td>wise</td>\n",
       "      <td>-5.480455</td>\n",
       "      <td>-1.445101</td>\n",
       "    </tr>\n",
       "    <tr>\n",
       "      <th>5</th>\n",
       "      <td>woman</td>\n",
       "      <td>-0.475810</td>\n",
       "      <td>-0.593428</td>\n",
       "    </tr>\n",
       "    <tr>\n",
       "      <th>6</th>\n",
       "      <td>boy</td>\n",
       "      <td>-0.559427</td>\n",
       "      <td>2.199511</td>\n",
       "    </tr>\n",
       "    <tr>\n",
       "      <th>7</th>\n",
       "      <td>young</td>\n",
       "      <td>-0.238807</td>\n",
       "      <td>0.150023</td>\n",
       "    </tr>\n",
       "    <tr>\n",
       "      <th>8</th>\n",
       "      <td>girl</td>\n",
       "      <td>-3.303689</td>\n",
       "      <td>-0.496036</td>\n",
       "    </tr>\n",
       "    <tr>\n",
       "      <th>9</th>\n",
       "      <td>prince</td>\n",
       "      <td>-1.742002</td>\n",
       "      <td>3.504077</td>\n",
       "    </tr>\n",
       "    <tr>\n",
       "      <th>10</th>\n",
       "      <td>princess</td>\n",
       "      <td>-2.770647</td>\n",
       "      <td>-1.077234</td>\n",
       "    </tr>\n",
       "    <tr>\n",
       "      <th>11</th>\n",
       "      <td>pretty</td>\n",
       "      <td>-3.749149</td>\n",
       "      <td>-0.244908</td>\n",
       "    </tr>\n",
       "  </tbody>\n",
       "</table>\n",
       "</div>"
      ],
      "text/plain": [
       "        word        x1        x2\n",
       "0       king  0.004778  1.052350\n",
       "1     strong -0.507818  6.914213\n",
       "2        man  0.138546  0.756987\n",
       "3      queen -1.094154 -0.301870\n",
       "4       wise -5.480455 -1.445101\n",
       "5      woman -0.475810 -0.593428\n",
       "6        boy -0.559427  2.199511\n",
       "7      young -0.238807  0.150023\n",
       "8       girl -3.303689 -0.496036\n",
       "9     prince -1.742002  3.504077\n",
       "10  princess -2.770647 -1.077234\n",
       "11    pretty -3.749149 -0.244908"
      ]
     },
     "execution_count": 50,
     "metadata": {},
     "output_type": "execute_result"
    }
   ],
   "source": [
    "import pandas as pd\n",
    "w2v_df = pd.DataFrame( vectors, columns=['x1', 'x2'] )\n",
    "w2v_df['word'] = dicts.get(\"dic\")\n",
    "w2v_df = w2v_df[ [ 'word', 'x1', 'x2' ] ] \n",
    "w2v_df"
   ]
  },
  {
   "cell_type": "markdown",
   "metadata": {},
   "source": [
    "### Plot으로 표현"
   ]
  },
  {
   "cell_type": "code",
   "execution_count": 51,
   "metadata": {},
   "outputs": [
    {
     "data": {
      "image/png": "[encoded data removed]",
      "text/plain": [
       "<Figure size 720x720 with 1 Axes>"
      ]
     },
     "metadata": {
      "needs_background": "light"
     },
     "output_type": "display_data"
    }
   ],
   "source": [
    "import matplotlib.pyplot as plt\n",
    "\n",
    "fig, ax = plt.subplots()\n",
    "\n",
    "for word, x1, x2 in zip( w2v_df['word'], w2v_df['x1'], w2v_df['x2'] ):\n",
    "    ax.annotate( word, ( x1, x2 ) )\n",
    "\n",
    "PADDING = 1.0\n",
    "x_axis_min = np.amin( vectors, axis=0)[0] - PADDING\n",
    "x_axis_max = np.amax( vectors, axis=0)[0] + PADDING\n",
    "y_axis_min = np.amin( vectors, axis=0)[1] - PADDING\n",
    "y_axis_max = np.amax( vectors, axis=0)[1] + PADDING\n",
    "\n",
    "plt.xlim( x_axis_min, x_axis_max )\n",
    "plt.ylim( y_axis_min, y_axis_max )\n",
    "plt.rcParams['figure.figsize'] = (10, 10)\n",
    "\n",
    "plt.show()"
   ]
  },
  {
   "cell_type": "code",
   "execution_count": null,
   "metadata": {},
   "outputs": [],
   "source": []
  }
 ],
 "metadata": {
  "kernelspec": {
   "display_name": "Python 3",
   "language": "python",
   "name": "python3"
  },
  "language_info": {
   "codemirror_mode": {
    "name": "ipython",
    "version": 3
   },
   "file_extension": ".py",
   "mimetype": "text/x-python",
   "name": "python",
   "nbconvert_exporter": "python",
   "pygments_lexer": "ipython3",
   "version": "3.6.8"
  }
 },
 "nbformat": 4,
 "nbformat_minor": 2
}
