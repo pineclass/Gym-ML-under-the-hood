{
 "cells": [
  {
   "cell_type": "markdown",
   "metadata": {},
   "source": [
    "# Word2Vec Under the hood\n"
   ]
  },
  {
   "cell_type": "markdown",
   "metadata": {},
   "source": [
    "word2vec이 어떤게 구현되는지 알아보자. "
   ]
  },
  {
   "cell_type": "markdown",
   "metadata": {},
   "source": [
    "## References\n",
    "\n",
    "이론\n",
    "\n",
    "* [BEOMSU KIM /word2vec 관련 이론 정리](https://shuuki4.wordpress.com/2016/01/27/word2vec-%EA%B4%80%EB%A0%A8-%EC%9D%B4%EB%A1%A0-%EC%A0%95%EB%A6%AC/)\n",
    "\n",
    "코드\n",
    "\n",
    "* [Minsuk Heo 허민석](https://www.youtube.com/channel/UCxP77kNgVfiiG6CXZ5WMuAQ)\n",
    "  - [딥러닝 자연어처리 Word2Vec](https://www.youtube.com/watch?v=sY4YyacSsLc)\n",
    "  - [python_tutorial/data_science/nlp/word2vec_tensorflow.ipynb](https://github.com/minsuk-heo/python_tutorial/blob/master/data_science/nlp/word2vec_tensorflow.ipynb)★\n",
    "  \n",
    "* tensorflow tutorial\n",
    "  - [representation/word2vec](https://www.tensorflow.org/tutorials/representation/word2vec)\n",
    "  - [representation/word2vec 한글판](https://tensorflowkorea.gitbooks.io/tensorflow-kr/g3doc/tutorials/word2vec/)\n",
    "  - [tensorflow/models/tutorials/embedding](https://github.com/tensorflow/models/tree/master/tutorials/embedding)\n"
   ]
  },
  {
   "cell_type": "markdown",
   "metadata": {},
   "source": [
    "## Input Data 준비하기"
   ]
  },
  {
   "cell_type": "code",
   "execution_count": 1,
   "metadata": {},
   "outputs": [],
   "source": [
    "raw_corpus = ['king is a strong man', \n",
    "          'queen is a wise woman', \n",
    "          'boy is a young man',\n",
    "          'girl is a young woman',\n",
    "          'prince is a young king',\n",
    "          'princess is a young queen',\n",
    "          'man is strong', \n",
    "          'woman is pretty',\n",
    "          'prince is a boy will be king',\n",
    "          'princess is a girl will be queen']\n",
    "\n",
    "WINDOW_SIZE = 2"
   ]
  },
  {
   "cell_type": "code",
   "execution_count": 2,
   "metadata": {},
   "outputs": [],
   "source": [
    "def remove_stop_words( line, stop_words_list ):\n",
    "    tmp = [ word for word in line.split() if word not in stop_words_list ]\n",
    "    return \" \".join( tmp )\n"
   ]
  },
  {
   "cell_type": "code",
   "execution_count": 3,
   "metadata": {},
   "outputs": [],
   "source": [
    "from collections import Counter\n",
    "\n",
    "def get_dicts( corpus ):\n",
    "    words = ( \" \".join( corpus ) ).split()\n",
    "    cnt = Counter( words )\n",
    "    dic = list( cnt.keys() )\n",
    "    return {\n",
    "        'cnt': cnt,\n",
    "        'dic': dic,\n",
    "        'dic2idx': dict( [ (w, i) for i, w in enumerate( dic ) ] ),\n",
    "        'frq': list( cnt.values() ),\n",
    "        'size': len( dic )\n",
    "    }"
   ]
  },
  {
   "cell_type": "code",
   "execution_count": 4,
   "metadata": {},
   "outputs": [],
   "source": [
    "def get_skip_gram( corpus, window_size ):\n",
    "    rst = []\n",
    "    for line in corpus:\n",
    "        words = line.split()\n",
    "        line_size = len( words )\n",
    "        for i, w in enumerate( words  ):\n",
    "            left_lim = max( i - window_size, 0 )\n",
    "            right_lim = min( i + window_size, line_size ) + 1\n",
    "            neighbors = words[ left_lim:right_lim ]\n",
    "            for neighbor in neighbors:\n",
    "                if w != neighbor : rst.append( ( w, neighbor) )\n",
    "    return rst\n"
   ]
  },
  {
   "cell_type": "code",
   "execution_count": 5,
   "metadata": {},
   "outputs": [
    {
     "name": "stdout",
     "output_type": "stream",
     "text": [
      "[('king', 'strong'), ('king', 'man'), ('strong', 'king'), ('strong', 'man'), ('man', 'king'), ('man', 'strong'), ('queen', 'wise'), ('queen', 'woman'), ('wise', 'queen'), ('wise', 'woman'), ('woman', 'queen'), ('woman', 'wise'), ('boy', 'young'), ('boy', 'man'), ('young', 'boy'), ('young', 'man'), ('man', 'boy'), ('man', 'young'), ('girl', 'young'), ('girl', 'woman'), ('young', 'girl'), ('young', 'woman'), ('woman', 'girl'), ('woman', 'young'), ('prince', 'young'), ('prince', 'king'), ('young', 'prince'), ('young', 'king'), ('king', 'prince'), ('king', 'young'), ('princess', 'young'), ('princess', 'queen'), ('young', 'princess'), ('young', 'queen'), ('queen', 'princess'), ('queen', 'young'), ('man', 'strong'), ('strong', 'man'), ('woman', 'pretty'), ('pretty', 'woman'), ('prince', 'boy'), ('prince', 'king'), ('boy', 'prince'), ('boy', 'king'), ('king', 'prince'), ('king', 'boy'), ('princess', 'girl'), ('princess', 'queen'), ('girl', 'princess'), ('girl', 'queen'), ('queen', 'princess'), ('queen', 'girl')]\n"
     ]
    }
   ],
   "source": [
    "stop_words_list = ['is', 'a', 'will', 'be']\n",
    "corpus = [ remove_stop_words( line, stop_words_list ) for line in raw_corpus ]\n",
    "dicts = get_dicts( corpus )\n",
    "skip_grams = get_skip_gram( corpus, WINDOW_SIZE )\n",
    "print(skip_grams)"
   ]
  },
  {
   "cell_type": "markdown",
   "metadata": {},
   "source": [
    "## 학습 준비하기"
   ]
  },
  {
   "cell_type": "code",
   "execution_count": 6,
   "metadata": {},
   "outputs": [],
   "source": [
    "import numpy as np\n",
    "\n",
    "def to_one_hot( idx, dim ):\n",
    "    one_hot = np.zeros( dim )\n",
    "    one_hot[ idx ] = 1\n",
    "    return one_hot\n",
    "\n"
   ]
  },
  {
   "cell_type": "code",
   "execution_count": 7,
   "metadata": {},
   "outputs": [],
   "source": [
    "X, Y = [], []\n",
    "for x, y in skip_grams:\n",
    "    X.append( dicts.get('dic2idx')[ x ] )\n",
    "    Y.append( [ dicts.get('dic2idx')[ y ] ] )\n"
   ]
  },
  {
   "cell_type": "markdown",
   "metadata": {},
   "source": [
    "### Define Tensor Graph "
   ]
  },
  {
   "cell_type": "code",
   "execution_count": 8,
   "metadata": {},
   "outputs": [],
   "source": [
    "import tensorflow as tf\n",
    "import math "
   ]
  },
  {
   "cell_type": "code",
   "execution_count": 9,
   "metadata": {},
   "outputs": [],
   "source": [
    "EMBEDDING_DIM = 2\n",
    "LEARNING_RATE = 0.05\n",
    "EPOCHS = 20001\n",
    "\n",
    "X_train = np.asarray(X)\n",
    "Y_train = np.asarray(Y)"
   ]
  },
  {
   "cell_type": "code",
   "execution_count": 10,
   "metadata": {},
   "outputs": [],
   "source": [
    "embedding_size = EMBEDDING_DIM\n",
    "vocabulary_size = dicts.get('size')\n",
    "num_sampled = 4  # Number of negative examples to sample."
   ]
  },
  {
   "attachments": {},
   "cell_type": "markdown",
   "metadata": {},
   "source": [
    "![](https://i.stack.imgur.com/447Nn.png)\n",
    "\n",
    "* input layer : `train_inputs` _(id of target words)_\n",
    "  - W : `embeddings`\n",
    "* hidden layer : `embed`\n",
    "  - W\\` : `nce_weights`\n",
    "* output ayer : `y_ = tf.matmul(embed, tf.transpose(nce_weights)) + nce_biases`\n",
    "  - `train_labels` _(id of target words)_\n",
    "\n",
    "※ [ref](https://stackoverflow.com/questions/41475180/understanding-tf-nn-nce-loss-in-tensorflow)"
   ]
  },
  {
   "cell_type": "code",
   "execution_count": 11,
   "metadata": {},
   "outputs": [],
   "source": [
    "# Placeholders for inputs\n",
    "## train_inputs consists of some int32 number, representing the id of target words\n",
    "train_inputs = tf.placeholder( tf.int32, shape=[None] )\n",
    "train_labels = tf.placeholder( tf.int32, shape=[None, 1] )\n",
    "\n",
    "# embeddings\n",
    "embeddings = tf.Variable( tf.random_uniform( [vocabulary_size, embedding_size], -1.0, 1.0 ) )\n",
    "embed = tf.nn.embedding_lookup( embeddings, train_inputs )\n",
    "\n",
    "# noise-contrastive estimation loss\n",
    "nce_weights = tf.Variable( tf.truncated_normal( [vocabulary_size, embedding_size], stddev=1.0 / math.sqrt( embedding_size ) ) )\n",
    "nce_biases = tf.Variable( tf.zeros( [vocabulary_size] ) )"
   ]
  },
  {
   "cell_type": "code",
   "execution_count": 12,
   "metadata": {},
   "outputs": [],
   "source": [
    "# 매번 음수 라벨링 된 셈플을 이용한 NCE(noise-contrastive estimation) loss 계산\n",
    "loss = tf.reduce_mean( \n",
    "    tf.nn.nce_loss( \n",
    "        inputs=embed,               # [batch_size, embed_size]\n",
    "        labels=train_labels,        # [batch_size, 1]\n",
    "        weights=nce_weights,        # [vocab_size, embed_size]\n",
    "        biases=nce_biases,          # [embed_size]\n",
    "        num_sampled=num_sampled,\n",
    "        num_classes=vocabulary_size ) )\n",
    "\n",
    "# SGD optimizer 를 사용\n",
    "optimizer = tf.train.GradientDescentOptimizer( learning_rate=0.01 ).minimize( loss )\n",
    "\n",
    "norm = tf.sqrt( tf.reduce_sum( tf.square( embeddings ), 1, keepdims=True ) )\n",
    "final_embeddings = normalized_embeddings = embeddings / norm"
   ]
  },
  {
   "cell_type": "markdown",
   "metadata": {},
   "source": [
    "### Train"
   ]
  },
  {
   "cell_type": "code",
   "execution_count": 13,
   "metadata": {},
   "outputs": [
    {
     "name": "stdout",
     "output_type": "stream",
     "text": [
      "Epochs 0 / Loss is :  5.7753296\n",
      "Epochs 2000 / Loss is :  2.0055728\n",
      "Epochs 4000 / Loss is :  2.075962\n",
      "Epochs 6000 / Loss is :  2.1787121\n",
      "Epochs 8000 / Loss is :  1.9633803\n",
      "Epochs 10000 / Loss is :  1.7637076\n",
      "Epochs 12000 / Loss is :  1.6726067\n",
      "Epochs 14000 / Loss is :  1.9603559\n",
      "Epochs 16000 / Loss is :  1.7754942\n",
      "Epochs 18000 / Loss is :  1.9173257\n",
      "Epochs 20000 / Loss is :  1.8473862\n"
     ]
    }
   ],
   "source": [
    "sess = tf.Session()\n",
    "sess.run( tf.global_variables_initializer() )\n",
    "\n",
    "feed_dict = { train_inputs: X_train, train_labels: Y_train }\n",
    "\n",
    "for i in range( EPOCHS ):\n",
    "    sess.run( optimizer, feed_dict=feed_dict )\n",
    "    if i % 2000 == 0 :\n",
    "        print( \"Epochs \" + str(i) + \" / Loss is : \", sess.run( loss, feed_dict=feed_dict ) )\n"
   ]
  },
  {
   "cell_type": "markdown",
   "metadata": {},
   "source": [
    "## Word2Vec 도출"
   ]
  },
  {
   "cell_type": "code",
   "execution_count": 14,
   "metadata": {},
   "outputs": [
    {
     "name": "stdout",
     "output_type": "stream",
     "text": [
      "[[ 0.99465007 -0.10330188]\n",
      " [ 0.96688765 -0.2552023 ]\n",
      " [ 0.9731148  -0.23032069]\n",
      " [-0.06144837  0.9981103 ]\n",
      " [ 0.08075175  0.99673426]\n",
      " [ 0.09077037  0.9958718 ]\n",
      " [ 0.9897472  -0.1428296 ]\n",
      " [ 0.59622073  0.80282056]\n",
      " [ 0.07657274  0.997064  ]\n",
      " [ 0.9671703  -0.2541289 ]\n",
      " [ 0.34087497  0.94010866]\n",
      " [-0.11841833  0.9929638 ]]\n"
     ]
    }
   ],
   "source": [
    "vectors =  sess.run( final_embeddings, feed_dict=feed_dict )\n",
    "print( vectors )"
   ]
  },
  {
   "cell_type": "markdown",
   "metadata": {},
   "source": [
    "### DataFrame으로 표현"
   ]
  },
  {
   "cell_type": "code",
   "execution_count": 15,
   "metadata": {},
   "outputs": [
    {
     "data": {
      "text/html": [
       "<div>\n",
       "<style scoped>\n",
       "    .dataframe tbody tr th:only-of-type {\n",
       "        vertical-align: middle;\n",
       "    }\n",
       "\n",
       "    .dataframe tbody tr th {\n",
       "        vertical-align: top;\n",
       "    }\n",
       "\n",
       "    .dataframe thead th {\n",
       "        text-align: right;\n",
       "    }\n",
       "</style>\n",
       "<table border=\"1\" class=\"dataframe\">\n",
       "  <thead>\n",
       "    <tr style=\"text-align: right;\">\n",
       "      <th></th>\n",
       "      <th>word</th>\n",
       "      <th>x1</th>\n",
       "      <th>x2</th>\n",
       "    </tr>\n",
       "  </thead>\n",
       "  <tbody>\n",
       "    <tr>\n",
       "      <th>0</th>\n",
       "      <td>king</td>\n",
       "      <td>0.994650</td>\n",
       "      <td>-0.103302</td>\n",
       "    </tr>\n",
       "    <tr>\n",
       "      <th>1</th>\n",
       "      <td>strong</td>\n",
       "      <td>0.966888</td>\n",
       "      <td>-0.255202</td>\n",
       "    </tr>\n",
       "    <tr>\n",
       "      <th>2</th>\n",
       "      <td>man</td>\n",
       "      <td>0.973115</td>\n",
       "      <td>-0.230321</td>\n",
       "    </tr>\n",
       "    <tr>\n",
       "      <th>3</th>\n",
       "      <td>queen</td>\n",
       "      <td>-0.061448</td>\n",
       "      <td>0.998110</td>\n",
       "    </tr>\n",
       "    <tr>\n",
       "      <th>4</th>\n",
       "      <td>wise</td>\n",
       "      <td>0.080752</td>\n",
       "      <td>0.996734</td>\n",
       "    </tr>\n",
       "    <tr>\n",
       "      <th>5</th>\n",
       "      <td>woman</td>\n",
       "      <td>0.090770</td>\n",
       "      <td>0.995872</td>\n",
       "    </tr>\n",
       "    <tr>\n",
       "      <th>6</th>\n",
       "      <td>boy</td>\n",
       "      <td>0.989747</td>\n",
       "      <td>-0.142830</td>\n",
       "    </tr>\n",
       "    <tr>\n",
       "      <th>7</th>\n",
       "      <td>young</td>\n",
       "      <td>0.596221</td>\n",
       "      <td>0.802821</td>\n",
       "    </tr>\n",
       "    <tr>\n",
       "      <th>8</th>\n",
       "      <td>girl</td>\n",
       "      <td>0.076573</td>\n",
       "      <td>0.997064</td>\n",
       "    </tr>\n",
       "    <tr>\n",
       "      <th>9</th>\n",
       "      <td>prince</td>\n",
       "      <td>0.967170</td>\n",
       "      <td>-0.254129</td>\n",
       "    </tr>\n",
       "    <tr>\n",
       "      <th>10</th>\n",
       "      <td>princess</td>\n",
       "      <td>0.340875</td>\n",
       "      <td>0.940109</td>\n",
       "    </tr>\n",
       "    <tr>\n",
       "      <th>11</th>\n",
       "      <td>pretty</td>\n",
       "      <td>-0.118418</td>\n",
       "      <td>0.992964</td>\n",
       "    </tr>\n",
       "  </tbody>\n",
       "</table>\n",
       "</div>"
      ],
      "text/plain": [
       "        word        x1        x2\n",
       "0       king  0.994650 -0.103302\n",
       "1     strong  0.966888 -0.255202\n",
       "2        man  0.973115 -0.230321\n",
       "3      queen -0.061448  0.998110\n",
       "4       wise  0.080752  0.996734\n",
       "5      woman  0.090770  0.995872\n",
       "6        boy  0.989747 -0.142830\n",
       "7      young  0.596221  0.802821\n",
       "8       girl  0.076573  0.997064\n",
       "9     prince  0.967170 -0.254129\n",
       "10  princess  0.340875  0.940109\n",
       "11    pretty -0.118418  0.992964"
      ]
     },
     "execution_count": 15,
     "metadata": {},
     "output_type": "execute_result"
    }
   ],
   "source": [
    "import pandas as pd\n",
    "w2v_df = pd.DataFrame( vectors, columns=['x1', 'x2'] )\n",
    "w2v_df['word'] = dicts.get(\"dic\")\n",
    "w2v_df = w2v_df[ [ 'word', 'x1', 'x2' ] ] \n",
    "w2v_df"
   ]
  },
  {
   "cell_type": "markdown",
   "metadata": {},
   "source": [
    "### Plot으로 표현"
   ]
  },
  {
   "cell_type": "code",
   "execution_count": 19,
   "metadata": {},
   "outputs": [
    {
     "data": {
      "image/png": "[encoded data removed]",
      "text/plain": [
       "<Figure size 720x720 with 1 Axes>"
      ]
     },
     "metadata": {
      "needs_background": "light"
     },
     "output_type": "display_data"
    }
   ],
   "source": [
    "import matplotlib.pyplot as plt\n",
    "\n",
    "fig, ax = plt.subplots()\n",
    "\n",
    "for word, x1, x2 in zip( w2v_df['word'], w2v_df['x1'], w2v_df['x2'] ):\n",
    "    ax.annotate( word, ( x1, x2 ) )\n",
    "\n",
    "PADDING = 1.0\n",
    "x_axis_min = np.amin( vectors, axis=0)[0] - PADDING\n",
    "x_axis_max = np.amax( vectors, axis=0)[0] + PADDING\n",
    "y_axis_min = np.amin( vectors, axis=0)[1] - PADDING\n",
    "y_axis_max = np.amax( vectors, axis=0)[1] + PADDING\n",
    "\n",
    "plt.xlim( x_axis_min, x_axis_max )\n",
    "plt.ylim( y_axis_min, y_axis_max )\n",
    "plt.rcParams['figure.figsize'] = (10, 10)\n",
    "\n",
    "plt.show()"
   ]
  },
  {
   "cell_type": "code",
   "execution_count": null,
   "metadata": {},
   "outputs": [],
   "source": []
  }
 ],
 "metadata": {
  "kernelspec": {
   "display_name": "Python 3",
   "language": "python",
   "name": "python3"
  },
  "language_info": {
   "codemirror_mode": {
    "name": "ipython",
    "version": 3
   },
   "file_extension": ".py",
   "mimetype": "text/x-python",
   "name": "python",
   "nbconvert_exporter": "python",
   "pygments_lexer": "ipython3",
   "version": "3.6.8"
  }
 },
 "nbformat": 4,
 "nbformat_minor": 2
}
