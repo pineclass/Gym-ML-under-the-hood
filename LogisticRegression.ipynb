{
 "cells": [
  {
   "cell_type": "markdown",
   "metadata": {},
   "source": [
    "# Logistic Regression"
   ]
  },
  {
   "cell_type": "markdown",
   "metadata": {},
   "source": [
    "* [모두를 위한 머신러닝/딥러닝 강의](https://hunkim.github.io/ml/)\n",
    "  - [lab-05-1-logistic_regression.py](https://github.com/hunkim/DeepLearningZeroToAll/blob/master/lab-05-1-logistic_regression.py)"
   ]
  },
  {
   "cell_type": "code",
   "execution_count": 6,
   "metadata": {},
   "outputs": [],
   "source": [
    "import tensorflow as tf\n",
    "\n",
    "tf.set_random_seed( 777 )"
   ]
  },
  {
   "cell_type": "code",
   "execution_count": 7,
   "metadata": {},
   "outputs": [],
   "source": [
    "X = tf.placeholder( tf.float32, shape=[None, 2] )\n",
    "Y = tf.placeholder( tf.float32, shape=[None, 1] )\n",
    "\n",
    "W = tf.Variable( tf.random_normal( [2,1] ), name='weight' )\n",
    "b = tf.Variable( tf.random_normal( [1] ), name='bias' )\n",
    "\n",
    "hypothesis = tf.sigmoid( tf.matmul( X, W ) + b )\n",
    "cost = -tf.reduce_mean( Y * tf.log( hypothesis ) + (1 - Y) * tf.log( 1 - hypothesis ) )\n",
    "\n",
    "train = tf.train.GradientDescentOptimizer(learning_rate=0.01).minimize(cost)\n",
    "\n",
    "predicted = tf.cast( hypothesis > 0.5, dtype=tf.float32 )\n",
    "accuracy = tf.reduce_mean( tf.cast( tf.equal(predicted, Y), dtype=tf.float32 ) )\n",
    "\n"
   ]
  },
  {
   "cell_type": "code",
   "execution_count": 8,
   "metadata": {},
   "outputs": [],
   "source": [
    "x_data = [[1, 2],\n",
    "          [2, 3],\n",
    "          [3, 1],\n",
    "          [4, 3],\n",
    "          [5, 3],\n",
    "          [6, 2]]\n",
    "y_data = [[0],\n",
    "          [0],\n",
    "          [0],\n",
    "          [1],\n",
    "          [1],\n",
    "          [1]]"
   ]
  },
  {
   "cell_type": "code",
   "execution_count": 9,
   "metadata": {},
   "outputs": [
    {
     "name": "stdout",
     "output_type": "stream",
     "text": [
      "0 1.5237943\n",
      "2500 0.28534022\n",
      "5000 0.21162242\n",
      "7500 0.16729827\n",
      "10000 0.13822535\n",
      "\n",
      "Hypothesis:  [[0.02614635]\n",
      " [0.1521137 ]\n",
      " [0.28206253]\n",
      " [0.79200214]\n",
      " [0.9460692 ]\n",
      " [0.9823695 ]] \n",
      "Correct (Y):  [[0.]\n",
      " [0.]\n",
      " [0.]\n",
      " [1.]\n",
      " [1.]\n",
      " [1.]] \n",
      "Accuracy:  1.0\n"
     ]
    }
   ],
   "source": [
    "with tf.Session() as sess:\n",
    "    sess.run( tf.global_variables_initializer() )\n",
    "    \n",
    "    for step in range( 10001 ):\n",
    "        coat_val, _ = sess.run( [cost, train], feed_dict={X: x_data, Y: y_data } )\n",
    "        if step % 2500 == 0:\n",
    "            print( step, coat_val )\n",
    "            \n",
    "    # Accuracy report\n",
    "    h, c, a = sess.run( [hypothesis, predicted, accuracy], feed_dict={ X: x_data, Y: y_data } )\n",
    "    print(\"\\nHypothesis: \", h, \"\\nCorrect (Y): \", c, \"\\nAccuracy: \", a)"
   ]
  },
  {
   "cell_type": "code",
   "execution_count": null,
   "metadata": {},
   "outputs": [],
   "source": []
  }
 ],
 "metadata": {
  "kernelspec": {
   "display_name": "Python 3",
   "language": "python",
   "name": "python3"
  },
  "language_info": {
   "codemirror_mode": {
    "name": "ipython",
    "version": 3
   },
   "file_extension": ".py",
   "mimetype": "text/x-python",
   "name": "python",
   "nbconvert_exporter": "python",
   "pygments_lexer": "ipython3",
   "version": "3.6.8"
  }
 },
 "nbformat": 4,
 "nbformat_minor": 2
}
