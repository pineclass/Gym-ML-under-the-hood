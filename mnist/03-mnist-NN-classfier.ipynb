{
 "cells": [
  {
   "cell_type": "markdown",
   "metadata": {},
   "source": [
    "# MNIST Neural Network classifier\n"
   ]
  },
  {
   "cell_type": "markdown",
   "metadata": {},
   "source": [
    "## REF\n",
    "\n",
    "* [모두를 위한 머신러닝/딥러닝 강의](https://hunkim.github.io/ml/)\n",
    "  - [lab-10-2-mnist_nn.py](https://github.com/hunkim/DeepLearningZeroToAll/blob/master/lab-10-2-mnist_nn.py)\n",
    "  - [lab-10-3-mnist_nn_xavier.py](https://github.com/hunkim/DeepLearningZeroToAll/blob/master/lab-10-3-mnist_nn_xavier.py)"
   ]
  },
  {
   "cell_type": "code",
   "execution_count": 1,
   "metadata": {},
   "outputs": [],
   "source": [
    "import tensorflow as tf\n",
    "import matplotlib.pyplot as plt\n",
    "import random"
   ]
  },
  {
   "cell_type": "code",
   "execution_count": 3,
   "metadata": {},
   "outputs": [
    {
     "name": "stdout",
     "output_type": "stream",
     "text": [
      "Extracting MNIST_data/train-images-idx3-ubyte.gz\n",
      "Extracting MNIST_data/train-labels-idx1-ubyte.gz\n",
      "Extracting MNIST_data/t10k-images-idx3-ubyte.gz\n",
      "Extracting MNIST_data/t10k-labels-idx1-ubyte.gz\n"
     ]
    }
   ],
   "source": [
    "from tensorflow.examples.tutorials.mnist import input_data\n",
    "\n",
    "mnist = input_data.read_data_sets( \"MNIST_data/\", one_hot=True )"
   ]
  },
  {
   "cell_type": "code",
   "execution_count": 4,
   "metadata": {},
   "outputs": [
    {
     "name": "stdout",
     "output_type": "stream",
     "text": [
      "MNIST training example size:  55000\n"
     ]
    }
   ],
   "source": [
    "# parameters\n",
    "tf.set_random_seed(777)\n",
    "nb_classes = 10\n",
    "image_shape = 28 * 28 \n",
    "nn_layer_size = 256\n",
    "\n",
    "learning_rate = 0.001\n",
    "num_epochs = 101\n",
    "batch_size = 100\n",
    "num_iterations = int( mnist.train.num_examples / batch_size )\n",
    "print( \"MNIST training example size: \", mnist.train.num_examples )"
   ]
  },
  {
   "cell_type": "code",
   "execution_count": 7,
   "metadata": {},
   "outputs": [],
   "source": [
    "X = tf.placeholder( tf.float32, [None, image_shape ])\n",
    "Y = tf.placeholder( tf.float32, [None, nb_classes ] )\n",
    "\n",
    "# weights & bias for nn layers\n",
    "# W1 = tf.Variable( tf.random_normal( [ image_shape, nn_layer_size ] ) )\n",
    "W1 = tf.get_variable(\"W_1\", shape=[ image_shape, nn_layer_size ], initializer=tf.contrib.layers.xavier_initializer())\n",
    "b1 = tf.Variable( tf.random_normal( [ nn_layer_size ] ) )\n",
    "L1 = tf.nn.relu( tf.matmul(X, W1) + b1 )\n",
    "\n",
    "# W2 = tf.Variable( tf.random_normal( [ nn_layer_size, nn_layer_size ] ) )\n",
    "W2 = tf.get_variable(\"W_2\", shape=[ nn_layer_size, nn_layer_size ], initializer=tf.contrib.layers.xavier_initializer())\n",
    "b2 = tf.Variable( tf.random_normal( [ nn_layer_size ] ) )\n",
    "L2 = tf.nn.relu( tf.matmul(L1, W2) + b2 )\n",
    "\n",
    "# W3 = tf.Variable( tf.random_normal( [ nn_layer_size, nb_classes ] ) )\n",
    "W3 = tf.get_variable(\"W_3\", shape=[ nn_layer_size, nb_classes ], initializer=tf.contrib.layers.xavier_initializer())\n",
    "b3 = tf.Variable( tf.random_normal( [ nb_classes ] ) )\n",
    "H = tf.matmul(L2, W3) + b3\n"
   ]
  },
  {
   "cell_type": "code",
   "execution_count": 8,
   "metadata": {},
   "outputs": [],
   "source": [
    "# Hypothesis (using softmax)\n",
    "cost = tf.reduce_mean( tf.nn.softmax_cross_entropy_with_logits_v2( logits=H, labels=Y ) )\n",
    "optimizer = tf.train.AdamOptimizer(learning_rate=learning_rate).minimize(cost)"
   ]
  },
  {
   "cell_type": "code",
   "execution_count": 9,
   "metadata": {},
   "outputs": [
    {
     "name": "stdout",
     "output_type": "stream",
     "text": [
      "Epoch: 0001, Cost: 0.317304977\n",
      "Epoch: 0011, Cost: 0.014641847\n",
      "Epoch: 0021, Cost: 0.007763427\n",
      "Epoch: 0031, Cost: 0.000552205\n",
      "Epoch: 0041, Cost: 0.000003981\n",
      "Epoch: 0051, Cost: 0.003515523\n",
      "Epoch: 0061, Cost: 0.000006802\n",
      "Epoch: 0071, Cost: 0.000000650\n",
      "Epoch: 0081, Cost: 0.000000036\n",
      "Epoch: 0091, Cost: 0.000000002\n",
      "Epoch: 0101, Cost: 0.000000000\n",
      "Learning finished\n"
     ]
    }
   ],
   "source": [
    "sess = tf.Session() \n",
    "\n",
    "# Initialize TensorFlow variables\n",
    "sess.run(tf.global_variables_initializer())\n",
    "\n",
    "# Training cycle\n",
    "for epoch in range(num_epochs):\n",
    "    avg_cost = 0\n",
    "\n",
    "    for i in range(num_iterations):\n",
    "        batch_xs, batch_ys = mnist.train.next_batch(batch_size)\n",
    "        feed_dict = {X: batch_xs, Y: batch_ys}\n",
    "        _, cost_val = sess.run( [ optimizer, cost ], feed_dict=feed_dict )\n",
    "        avg_cost += cost_val / num_iterations\n",
    "\n",
    "    if epoch % 10 == 0:\n",
    "        print(\"Epoch: {:04d}, Cost: {:.9f}\".format(epoch + 1, avg_cost))\n",
    "\n",
    "print(\"Learning finished\")"
   ]
  },
  {
   "cell_type": "code",
   "execution_count": 10,
   "metadata": {},
   "outputs": [
    {
     "name": "stdout",
     "output_type": "stream",
     "text": [
      "Accuracy:  0.9845\n"
     ]
    }
   ],
   "source": [
    "correct_prediction = tf.equal(tf.argmax( H, 1), tf.argmax(Y, 1))\n",
    "accuracy = tf.reduce_mean( tf.cast( correct_prediction, tf.float32 ) )\n",
    "\n",
    "print(\n",
    "    \"Accuracy: \",\n",
    "    accuracy.eval(\n",
    "        session=sess, feed_dict={X: mnist.test.images, Y: mnist.test.labels}\n",
    "    ),\n",
    ")"
   ]
  },
  {
   "cell_type": "code",
   "execution_count": 11,
   "metadata": {},
   "outputs": [
    {
     "name": "stdout",
     "output_type": "stream",
     "text": [
      "Label:  [1]\n",
      "Prediction:  [1]\n"
     ]
    },
    {
     "data": {
      "image/png": "[encoded data removed]",
      "text/plain": [
       "<Figure size 432x288 with 1 Axes>"
      ]
     },
     "metadata": {
      "needs_background": "light"
     },
     "output_type": "display_data"
    }
   ],
   "source": [
    "# Get one and predict\n",
    "r = random.randint(0, mnist.test.num_examples - 1)\n",
    "print(\"Label: \", sess.run(tf.argmax(mnist.test.labels[r : r + 1], 1)))\n",
    "print(\n",
    "    \"Prediction: \",\n",
    "    sess.run(tf.argmax( H, 1), feed_dict={X: mnist.test.images[r : r + 1]}),\n",
    ")\n",
    "\n",
    "plt.imshow(\n",
    "    mnist.test.images[r : r + 1].reshape(28, 28),\n",
    "    cmap=\"Greys\",\n",
    "    interpolation=\"nearest\",\n",
    ")\n",
    "plt.show()\n",
    "\n",
    "sess.close()"
   ]
  },
  {
   "cell_type": "code",
   "execution_count": null,
   "metadata": {},
   "outputs": [],
   "source": []
  }
 ],
 "metadata": {
  "kernelspec": {
   "display_name": "Python 3",
   "language": "python",
   "name": "python3"
  },
  "language_info": {
   "codemirror_mode": {
    "name": "ipython",
    "version": 3
   },
   "file_extension": ".py",
   "mimetype": "text/x-python",
   "name": "python",
   "nbconvert_exporter": "python",
   "pygments_lexer": "ipython3",
   "version": "3.6.8"
  }
 },
 "nbformat": 4,
 "nbformat_minor": 2
}
