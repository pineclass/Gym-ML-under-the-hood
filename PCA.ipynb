{
 "cells": [
  {
   "cell_type": "markdown",
   "metadata": {},
   "source": [
    "# PCA : Principal component analysis under the hood"
   ]
  },
  {
   "cell_type": "markdown",
   "metadata": {},
   "source": [
    "## References\n",
    "\n",
    "이론\n",
    "\n",
    "* [wikipedia/Principal component analysis](https://en.wikipedia.org/wiki/Principal_component_analysis)\n",
    "* 공돌이의 수학정리노트\n",
    "  - [공분산 행렬의 의미와 PCA](https://www.youtube.com/watch?v=jNwf-JUGWgg)\n",
    "  - [공돌이의 수학정리노트 / 4. 선형대수학 / 09 주성분분석 (PCA)](https://wikidocs.net/7646)\n",
    "* [다크프로그래머 /선형대수학 #6 주성분분석(PCA)의 이해와 활용](https://darkpgmr.tistory.com/110)\n",
    "\n",
    "코드 \n",
    "\n",
    "* Minsuk Heo 허민석\n",
    "  - [youtube/PCA algorithm step by step with python code](https://www.youtube.com/watch?v=xebPVQ1f7nM&feature=youtu.be)\n",
    "  - [github.com/minsuk-heo/python_tutorial/blob/master/data_science/pca](https://github.com/minsuk-heo/python_tutorial/blob/master/data_science/pca/PCA.ipynb)★"
   ]
  },
  {
   "cell_type": "markdown",
   "metadata": {},
   "source": [
    "## 1. Data"
   ]
  },
  {
   "cell_type": "code",
   "execution_count": 1,
   "metadata": {},
   "outputs": [],
   "source": [
    "import pandas as pd\n",
    "\n",
    "# Eating, exercise habbit and their body shape\n",
    "df = pd.DataFrame(columns=['calory', 'breakfast', 'lunch', 'dinner', 'exercise', 'body_shape'])"
   ]
  },
  {
   "cell_type": "code",
   "execution_count": 2,
   "metadata": {},
   "outputs": [
    {
     "data": {
      "text/html": [
       "<div>\n",
       "<style scoped>\n",
       "    .dataframe tbody tr th:only-of-type {\n",
       "        vertical-align: middle;\n",
       "    }\n",
       "\n",
       "    .dataframe tbody tr th {\n",
       "        vertical-align: top;\n",
       "    }\n",
       "\n",
       "    .dataframe thead th {\n",
       "        text-align: right;\n",
       "    }\n",
       "</style>\n",
       "<table border=\"1\" class=\"dataframe\">\n",
       "  <thead>\n",
       "    <tr style=\"text-align: right;\">\n",
       "      <th></th>\n",
       "      <th>calory</th>\n",
       "      <th>breakfast</th>\n",
       "      <th>lunch</th>\n",
       "      <th>dinner</th>\n",
       "      <th>exercise</th>\n",
       "      <th>body_shape</th>\n",
       "    </tr>\n",
       "  </thead>\n",
       "  <tbody>\n",
       "    <tr>\n",
       "      <th>0</th>\n",
       "      <td>1200</td>\n",
       "      <td>1</td>\n",
       "      <td>0</td>\n",
       "      <td>0</td>\n",
       "      <td>2</td>\n",
       "      <td>Skinny</td>\n",
       "    </tr>\n",
       "    <tr>\n",
       "      <th>1</th>\n",
       "      <td>2800</td>\n",
       "      <td>1</td>\n",
       "      <td>1</td>\n",
       "      <td>1</td>\n",
       "      <td>1</td>\n",
       "      <td>Normal</td>\n",
       "    </tr>\n",
       "    <tr>\n",
       "      <th>2</th>\n",
       "      <td>3500</td>\n",
       "      <td>2</td>\n",
       "      <td>2</td>\n",
       "      <td>1</td>\n",
       "      <td>0</td>\n",
       "      <td>Fat</td>\n",
       "    </tr>\n",
       "    <tr>\n",
       "      <th>3</th>\n",
       "      <td>1400</td>\n",
       "      <td>0</td>\n",
       "      <td>1</td>\n",
       "      <td>0</td>\n",
       "      <td>3</td>\n",
       "      <td>Skinny</td>\n",
       "    </tr>\n",
       "    <tr>\n",
       "      <th>4</th>\n",
       "      <td>5000</td>\n",
       "      <td>2</td>\n",
       "      <td>2</td>\n",
       "      <td>2</td>\n",
       "      <td>0</td>\n",
       "      <td>Fat</td>\n",
       "    </tr>\n",
       "    <tr>\n",
       "      <th>5</th>\n",
       "      <td>1300</td>\n",
       "      <td>0</td>\n",
       "      <td>0</td>\n",
       "      <td>1</td>\n",
       "      <td>2</td>\n",
       "      <td>Skinny</td>\n",
       "    </tr>\n",
       "    <tr>\n",
       "      <th>6</th>\n",
       "      <td>3000</td>\n",
       "      <td>1</td>\n",
       "      <td>0</td>\n",
       "      <td>1</td>\n",
       "      <td>1</td>\n",
       "      <td>Normal</td>\n",
       "    </tr>\n",
       "    <tr>\n",
       "      <th>7</th>\n",
       "      <td>4000</td>\n",
       "      <td>2</td>\n",
       "      <td>2</td>\n",
       "      <td>2</td>\n",
       "      <td>0</td>\n",
       "      <td>Fat</td>\n",
       "    </tr>\n",
       "    <tr>\n",
       "      <th>8</th>\n",
       "      <td>2600</td>\n",
       "      <td>0</td>\n",
       "      <td>2</td>\n",
       "      <td>0</td>\n",
       "      <td>0</td>\n",
       "      <td>Normal</td>\n",
       "    </tr>\n",
       "    <tr>\n",
       "      <th>9</th>\n",
       "      <td>3000</td>\n",
       "      <td>1</td>\n",
       "      <td>2</td>\n",
       "      <td>1</td>\n",
       "      <td>1</td>\n",
       "      <td>Fat</td>\n",
       "    </tr>\n",
       "  </tbody>\n",
       "</table>\n",
       "</div>"
      ],
      "text/plain": [
       "  calory breakfast lunch dinner exercise body_shape\n",
       "0   1200         1     0      0        2     Skinny\n",
       "1   2800         1     1      1        1     Normal\n",
       "2   3500         2     2      1        0        Fat\n",
       "3   1400         0     1      0        3     Skinny\n",
       "4   5000         2     2      2        0        Fat\n",
       "5   1300         0     0      1        2     Skinny\n",
       "6   3000         1     0      1        1     Normal\n",
       "7   4000         2     2      2        0        Fat\n",
       "8   2600         0     2      0        0     Normal\n",
       "9   3000         1     2      1        1        Fat"
      ]
     },
     "execution_count": 2,
     "metadata": {},
     "output_type": "execute_result"
    }
   ],
   "source": [
    "df.loc[0] = [1200, 1, 0, 0, 2, 'Skinny']\n",
    "df.loc[1] = [2800, 1, 1, 1, 1, 'Normal']\n",
    "df.loc[2] = [3500, 2, 2, 1, 0, 'Fat']\n",
    "df.loc[3] = [1400, 0, 1, 0, 3, 'Skinny']\n",
    "df.loc[4] = [5000, 2, 2, 2, 0, 'Fat']\n",
    "df.loc[5] = [1300, 0, 0, 1, 2, 'Skinny']\n",
    "df.loc[6] = [3000, 1, 0, 1, 1, 'Normal']\n",
    "df.loc[7] = [4000, 2, 2, 2, 0, 'Fat']\n",
    "df.loc[8] = [2600, 0, 2, 0, 0, 'Normal']\n",
    "df.loc[9] = [3000, 1, 2, 1, 1, 'Fat']\n",
    "\n",
    "df.head(10)"
   ]
  },
  {
   "cell_type": "markdown",
   "metadata": {},
   "source": [
    "### Get feature and labels"
   ]
  },
  {
   "cell_type": "code",
   "execution_count": 3,
   "metadata": {},
   "outputs": [],
   "source": [
    "X = df[ ['calory', 'breakfast', 'lunch', 'dinner', 'exercise'] ]\n",
    "Y = df[ ['body_shape'] ]"
   ]
  },
  {
   "cell_type": "markdown",
   "metadata": {},
   "source": [
    "### Rescaling\n",
    "\n",
    "PCA에서는 데이터 rescaling이 중요하다!"
   ]
  },
  {
   "cell_type": "code",
   "execution_count": 6,
   "metadata": {},
   "outputs": [
    {
     "name": "stdout",
     "output_type": "stream",
     "text": [
      "[[-1.35205803  0.         -1.3764944  -1.28571429  1.        ]\n",
      " [ 0.01711466  0.         -0.22941573  0.14285714  0.        ]\n",
      " [ 0.61612771  1.29099445  0.91766294  0.14285714 -1.        ]\n",
      " [-1.18091145 -1.29099445 -0.22941573 -1.28571429  2.        ]\n",
      " [ 1.89972711  1.29099445  0.91766294  1.57142857 -1.        ]\n",
      " [-1.26648474 -1.29099445 -1.3764944   0.14285714  1.        ]\n",
      " [ 0.18826125  0.         -1.3764944   0.14285714  0.        ]\n",
      " [ 1.04399418  1.29099445  0.91766294  1.57142857 -1.        ]\n",
      " [-0.15403193 -1.29099445  0.91766294 -1.28571429 -1.        ]\n",
      " [ 0.18826125  0.          0.91766294  0.14285714  0.        ]]\n"
     ]
    },
    {
     "name": "stderr",
     "output_type": "stream",
     "text": [
      "C:\\Users\\Junho\\Anaconda3\\lib\\site-packages\\sklearn\\preprocessing\\data.py:625: DataConversionWarning: Data with input dtype object were all converted to float64 by StandardScaler.\n",
      "  return self.partial_fit(X, y)\n",
      "C:\\Users\\Junho\\Anaconda3\\lib\\site-packages\\sklearn\\base.py:462: DataConversionWarning: Data with input dtype object were all converted to float64 by StandardScaler.\n",
      "  return self.fit(X, **fit_params).transform(X)\n"
     ]
    }
   ],
   "source": [
    "from sklearn.preprocessing import StandardScaler\n",
    "\n",
    "X_std = StandardScaler().fit_transform(X)\n",
    "print( X_std )"
   ]
  },
  {
   "cell_type": "markdown",
   "metadata": {},
   "source": [
    "## 2. Get Covariance Matrix\n",
    "\n",
    "[ref](https://wikidocs.net/7646#2_1)\n",
    "\n",
    "$$\n",
    "\\sum = { X^TX \\over n }\n",
    "$$"
   ]
  },
  {
   "cell_type": "code",
   "execution_count": 7,
   "metadata": {},
   "outputs": [
    {
     "name": "stdout",
     "output_type": "stream",
     "text": [
      "[[ 1.11111111  0.88379717  0.76782385  0.89376551 -0.93179808]\n",
      " [ 0.88379717  1.11111111  0.49362406  0.81967902 -0.71721914]\n",
      " [ 0.76782385  0.49362406  1.11111111  0.40056715 -0.76471911]\n",
      " [ 0.89376551  0.81967902  0.40056715  1.11111111 -0.63492063]\n",
      " [-0.93179808 -0.71721914 -0.76471911 -0.63492063  1.11111111]]\n"
     ]
    }
   ],
   "source": [
    "import numpy as np\n",
    "\n",
    "features = X_std.T\n",
    "covariance_matrix = np.cov( features )\n",
    "print( covariance_matrix )"
   ]
  },
  {
   "cell_type": "markdown",
   "metadata": {},
   "source": [
    "## 3. Get Eigen Vectors and Eigen Values from Covariance Matrix"
   ]
  },
  {
   "cell_type": "code",
   "execution_count": 11,
   "metadata": {},
   "outputs": [
    {
     "name": "stdout",
     "output_type": "stream",
     "text": [
      "Eigenvectors\n",
      " [[ 0.508005    0.0169937  -0.84711404  0.11637853  0.10244985]\n",
      " [ 0.44660335  0.36890361  0.12808055 -0.63112016 -0.49973822]\n",
      " [ 0.38377913 -0.70804084  0.20681005 -0.40305226  0.38232213]\n",
      " [ 0.42845209  0.53194699  0.3694462   0.22228235  0.58954327]\n",
      " [-0.46002038  0.2816592  -0.29450345 -0.61341895  0.49601841]]\n",
      "\n",
      "Eigenvalues\n",
      " [4.0657343  0.8387565  0.07629538 0.27758568 0.2971837 ]\n"
     ]
    }
   ],
   "source": [
    "eig_vals, eig_vecs = np.linalg.eig( covariance_matrix )\n",
    "\n",
    "print( \"Eigenvectors\\n\", eig_vecs )\n",
    "print()\n",
    "print( \"Eigenvalues\\n\", eig_vals )"
   ]
  },
  {
   "cell_type": "code",
   "execution_count": 12,
   "metadata": {},
   "outputs": [
    {
     "data": {
      "text/plain": [
       "0.7318321731427544"
      ]
     },
     "execution_count": 12,
     "metadata": {},
     "output_type": "execute_result"
    }
   ],
   "source": [
    "# We reduce dimension to 1 dimension, since 1 eigenvector has 73% (enough) variances\n",
    "eig_vals[0] / sum(eig_vals)"
   ]
  },
  {
   "cell_type": "markdown",
   "metadata": {},
   "source": [
    "## 4. Project data point onto selected Eigen Vector"
   ]
  },
  {
   "cell_type": "code",
   "execution_count": 14,
   "metadata": {},
   "outputs": [],
   "source": [
    "projected_X = X_std.dot( eig_vecs.T[0] ) "
   ]
  },
  {
   "cell_type": "code",
   "execution_count": 15,
   "metadata": {},
   "outputs": [
    {
     "data": {
      "text/plain": [
       "array([-2.22600943, -0.0181432 ,  1.76296611, -2.73542407,  3.02711544,\n",
       "       -2.14702579, -0.37142473,  2.59239883, -0.39347815,  0.50902498])"
      ]
     },
     "execution_count": 15,
     "metadata": {},
     "output_type": "execute_result"
    }
   ],
   "source": [
    "print( projected_X )"
   ]
  },
  {
   "cell_type": "code",
   "execution_count": 17,
   "metadata": {},
   "outputs": [
    {
     "data": {
      "text/html": [
       "<div>\n",
       "<style scoped>\n",
       "    .dataframe tbody tr th:only-of-type {\n",
       "        vertical-align: middle;\n",
       "    }\n",
       "\n",
       "    .dataframe tbody tr th {\n",
       "        vertical-align: top;\n",
       "    }\n",
       "\n",
       "    .dataframe thead th {\n",
       "        text-align: right;\n",
       "    }\n",
       "</style>\n",
       "<table border=\"1\" class=\"dataframe\">\n",
       "  <thead>\n",
       "    <tr style=\"text-align: right;\">\n",
       "      <th></th>\n",
       "      <th>PC1</th>\n",
       "      <th>y-axis</th>\n",
       "      <th>label</th>\n",
       "    </tr>\n",
       "  </thead>\n",
       "  <tbody>\n",
       "    <tr>\n",
       "      <th>0</th>\n",
       "      <td>-2.226009</td>\n",
       "      <td>0.0</td>\n",
       "      <td>Skinny</td>\n",
       "    </tr>\n",
       "    <tr>\n",
       "      <th>1</th>\n",
       "      <td>-0.018143</td>\n",
       "      <td>0.0</td>\n",
       "      <td>Normal</td>\n",
       "    </tr>\n",
       "    <tr>\n",
       "      <th>2</th>\n",
       "      <td>1.762966</td>\n",
       "      <td>0.0</td>\n",
       "      <td>Fat</td>\n",
       "    </tr>\n",
       "    <tr>\n",
       "      <th>3</th>\n",
       "      <td>-2.735424</td>\n",
       "      <td>0.0</td>\n",
       "      <td>Skinny</td>\n",
       "    </tr>\n",
       "    <tr>\n",
       "      <th>4</th>\n",
       "      <td>3.027115</td>\n",
       "      <td>0.0</td>\n",
       "      <td>Fat</td>\n",
       "    </tr>\n",
       "    <tr>\n",
       "      <th>5</th>\n",
       "      <td>-2.147026</td>\n",
       "      <td>0.0</td>\n",
       "      <td>Skinny</td>\n",
       "    </tr>\n",
       "    <tr>\n",
       "      <th>6</th>\n",
       "      <td>-0.371425</td>\n",
       "      <td>0.0</td>\n",
       "      <td>Normal</td>\n",
       "    </tr>\n",
       "    <tr>\n",
       "      <th>7</th>\n",
       "      <td>2.592399</td>\n",
       "      <td>0.0</td>\n",
       "      <td>Fat</td>\n",
       "    </tr>\n",
       "    <tr>\n",
       "      <th>8</th>\n",
       "      <td>-0.393478</td>\n",
       "      <td>0.0</td>\n",
       "      <td>Normal</td>\n",
       "    </tr>\n",
       "    <tr>\n",
       "      <th>9</th>\n",
       "      <td>0.509025</td>\n",
       "      <td>0.0</td>\n",
       "      <td>Fat</td>\n",
       "    </tr>\n",
       "  </tbody>\n",
       "</table>\n",
       "</div>"
      ],
      "text/plain": [
       "        PC1  y-axis   label\n",
       "0 -2.226009     0.0  Skinny\n",
       "1 -0.018143     0.0  Normal\n",
       "2  1.762966     0.0     Fat\n",
       "3 -2.735424     0.0  Skinny\n",
       "4  3.027115     0.0     Fat\n",
       "5 -2.147026     0.0  Skinny\n",
       "6 -0.371425     0.0  Normal\n",
       "7  2.592399     0.0     Fat\n",
       "8 -0.393478     0.0  Normal\n",
       "9  0.509025     0.0     Fat"
      ]
     },
     "execution_count": 17,
     "metadata": {},
     "output_type": "execute_result"
    }
   ],
   "source": [
    "result = pd.DataFrame( projected_X, columns=['PC1'])\n",
    "result['y-axis'] = 0.0\n",
    "result['label'] = Y\n",
    "result.head(10)"
   ]
  },
  {
   "cell_type": "markdown",
   "metadata": {},
   "source": [
    "## 5. Visualize"
   ]
  },
  {
   "cell_type": "code",
   "execution_count": 18,
   "metadata": {},
   "outputs": [],
   "source": [
    "import matplotlib.pyplot as plt\n",
    "import seaborn as sns\n",
    "%matplotlib inline"
   ]
  },
  {
   "cell_type": "code",
   "execution_count": 19,
   "metadata": {},
   "outputs": [
    {
     "data": {
      "text/plain": [
       "Text(0.5, 1.0, 'PCA result')"
      ]
     },
     "execution_count": 19,
     "metadata": {},
     "output_type": "execute_result"
    },
    {
     "data": {
      "image/png": "[encoded data removed]",
      "text/plain": [
       "<Figure size 432.25x360 with 1 Axes>"
      ]
     },
     "metadata": {
      "needs_background": "light"
     },
     "output_type": "display_data"
    }
   ],
   "source": [
    "sns.lmplot('PC1', 'y-axis', data=result, fit_reg=False,  # x-axis, y-axis, data, no line\n",
    "           scatter_kws={\"s\": 50}, # marker size\n",
    "           hue=\"label\") # color\n",
    "\n",
    "# title\n",
    "plt.title('PCA result')"
   ]
  },
  {
   "cell_type": "markdown",
   "metadata": {},
   "source": [
    "## Bonus\n"
   ]
  },
  {
   "cell_type": "markdown",
   "metadata": {},
   "source": [
    "### to 2DIM\n"
   ]
  },
  {
   "cell_type": "code",
   "execution_count": 46,
   "metadata": {},
   "outputs": [
    {
     "data": {
      "text/plain": [
       "array([[ 0.508005  ,  0.0169937 , -0.84711404,  0.11637853,  0.10244985],\n",
       "       [ 0.44660335,  0.36890361,  0.12808055, -0.63112016, -0.49973822],\n",
       "       [ 0.38377913, -0.70804084,  0.20681005, -0.40305226,  0.38232213],\n",
       "       [ 0.42845209,  0.53194699,  0.3694462 ,  0.22228235,  0.58954327],\n",
       "       [-0.46002038,  0.2816592 , -0.29450345, -0.61341895,  0.49601841]])"
      ]
     },
     "execution_count": 46,
     "metadata": {},
     "output_type": "execute_result"
    }
   ],
   "source": [
    "eig_vecs"
   ]
  },
  {
   "cell_type": "code",
   "execution_count": 47,
   "metadata": {},
   "outputs": [
    {
     "data": {
      "text/plain": [
       "array([[ 0.508005  ,  0.0169937 ],\n",
       "       [ 0.44660335,  0.36890361],\n",
       "       [ 0.38377913, -0.70804084],\n",
       "       [ 0.42845209,  0.53194699],\n",
       "       [-0.46002038,  0.2816592 ]])"
      ]
     },
     "execution_count": 47,
     "metadata": {},
     "output_type": "execute_result"
    }
   ],
   "source": [
    "eig_vecs[:,:2]"
   ]
  },
  {
   "cell_type": "code",
   "execution_count": 54,
   "metadata": {},
   "outputs": [
    {
     "name": "stdout",
     "output_type": "stream",
     "text": [
      "[[-2.22600943  0.54936514]\n",
      " [-0.0181432   0.23871898]\n",
      " [ 1.76296611 -0.36868681]\n",
      " [-2.73542407 -0.4544983 ]\n",
      " [ 3.02711544  0.41305057]\n",
      " [-2.14702579  0.83449111]\n",
      " [-0.37142473  1.05380594]\n",
      " [ 2.59239883  0.3985085 ]\n",
      " [-0.39347815 -2.09420397]\n",
      " [ 0.50902498 -0.57055116]]\n"
     ]
    }
   ],
   "source": [
    "projected_X2 = X_std.dot( eig_vecs[:,:2] ) \n",
    "print( projected_X2 )\n"
   ]
  },
  {
   "cell_type": "code",
   "execution_count": 55,
   "metadata": {},
   "outputs": [
    {
     "data": {
      "text/plain": [
       "Text(0.5, 1.0, 'PCA result')"
      ]
     },
     "execution_count": 55,
     "metadata": {},
     "output_type": "execute_result"
    },
    {
     "data": {
      "image/png": "[encoded data removed]",
      "text/plain": [
       "<Figure size 432.25x360 with 1 Axes>"
      ]
     },
     "metadata": {
      "needs_background": "light"
     },
     "output_type": "display_data"
    }
   ],
   "source": [
    "result2 = pd.DataFrame( projected_X2, columns=['PC1', 'PC2'])\n",
    "result2['label'] = Y\n",
    "result2.head(10)\n",
    "\n",
    "sns.lmplot('PC1', 'PC2', data=result2, fit_reg=False,  # x-axis, y-axis, data, no line\n",
    "           scatter_kws={\"s\": 50}, # marker size\n",
    "           hue=\"label\") # color\n",
    "\n",
    "# title\n",
    "plt.title('PCA result')"
   ]
  },
  {
   "cell_type": "markdown",
   "metadata": {},
   "source": [
    "\n",
    "### with scikit-learn"
   ]
  },
  {
   "cell_type": "code",
   "execution_count": 62,
   "metadata": {},
   "outputs": [
    {
     "name": "stderr",
     "output_type": "stream",
     "text": [
      "C:\\Users\\Junho\\Anaconda3\\lib\\site-packages\\sklearn\\preprocessing\\data.py:625: DataConversionWarning: Data with input dtype object were all converted to float64 by StandardScaler.\n",
      "  return self.partial_fit(X, y)\n",
      "C:\\Users\\Junho\\Anaconda3\\lib\\site-packages\\sklearn\\base.py:462: DataConversionWarning: Data with input dtype object were all converted to float64 by StandardScaler.\n",
      "  return self.fit(X, **fit_params).transform(X)\n"
     ]
    }
   ],
   "source": [
    "from sklearn import decomposition\n",
    "from sklearn.preprocessing import StandardScaler\n",
    "\n",
    "X_std = StandardScaler().fit_transform(X)\n",
    "pca = decomposition.PCA( n_components=2 )\n",
    "sklearn_pca_x = pca.fit_transform( X_std )"
   ]
  },
  {
   "cell_type": "code",
   "execution_count": 63,
   "metadata": {},
   "outputs": [
    {
     "data": {
      "text/plain": [
       "array([[-2.22600943, -0.54936514],\n",
       "       [-0.0181432 , -0.23871898],\n",
       "       [ 1.76296611,  0.36868681],\n",
       "       [-2.73542407,  0.4544983 ],\n",
       "       [ 3.02711544, -0.41305057],\n",
       "       [-2.14702579, -0.83449111],\n",
       "       [-0.37142473, -1.05380594],\n",
       "       [ 2.59239883, -0.3985085 ],\n",
       "       [-0.39347815,  2.09420397],\n",
       "       [ 0.50902498,  0.57055116]])"
      ]
     },
     "execution_count": 63,
     "metadata": {},
     "output_type": "execute_result"
    }
   ],
   "source": [
    "sklearn_pca_x"
   ]
  },
  {
   "cell_type": "code",
   "execution_count": 64,
   "metadata": {},
   "outputs": [
    {
     "data": {
      "text/plain": [
       "<seaborn.axisgrid.FacetGrid at 0x25e99e67b38>"
      ]
     },
     "execution_count": 64,
     "metadata": {},
     "output_type": "execute_result"
    },
    {
     "data": {
      "image/png": "[encoded data removed]",
      "text/plain": [
       "<Figure size 432.25x360 with 1 Axes>"
      ]
     },
     "metadata": {
      "needs_background": "light"
     },
     "output_type": "display_data"
    }
   ],
   "source": [
    "sklearn_rst = pd.DataFrame( sklearn_pca_x, columns=['PC1', 'PC2'])\n",
    "sklearn_rst['label'] = Y\n",
    "\n",
    "sns.lmplot('PC1', 'PC2', data=sklearn_rst, fit_reg=False,  # x-axis, y-axis, data, no line\n",
    "           scatter_kws={\"s\": 50}, # marker size\n",
    "           hue=\"label\") # color"
   ]
  },
  {
   "cell_type": "code",
   "execution_count": null,
   "metadata": {},
   "outputs": [],
   "source": []
  }
 ],
 "metadata": {
  "kernelspec": {
   "display_name": "Python 3",
   "language": "python",
   "name": "python3"
  },
  "language_info": {
   "codemirror_mode": {
    "name": "ipython",
    "version": 3
   },
   "file_extension": ".py",
   "mimetype": "text/x-python",
   "name": "python",
   "nbconvert_exporter": "python",
   "pygments_lexer": "ipython3",
   "version": "3.6.8"
  }
 },
 "nbformat": 4,
 "nbformat_minor": 2
}
