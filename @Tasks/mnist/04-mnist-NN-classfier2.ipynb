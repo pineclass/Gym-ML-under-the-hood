{
 "cells": [
  {
   "cell_type": "markdown",
   "metadata": {},
   "source": [
    "# MNIST Neural Network classifier\n"
   ]
  },
  {
   "cell_type": "markdown",
   "metadata": {},
   "source": [
    "## REF\n",
    "\n",
    "* [모두를 위한 머신러닝/딥러닝 강의](https://hunkim.github.io/ml/)\n",
    "  - [lab-10-4-mnist_nn_deep.py](https://github.com/hunkim/DeepLearningZeroToAll/blob/master/lab-10-4-mnist_nn_deep.py)\n",
    "  - [lab-10-5-mnist_nn_dropout.py](https://github.com/hunkim/DeepLearningZeroToAll/blob/master/lab-10-5-mnist_nn_dropout.py)"
   ]
  },
  {
   "cell_type": "code",
   "execution_count": 1,
   "metadata": {},
   "outputs": [],
   "source": [
    "import tensorflow as tf\n",
    "import matplotlib.pyplot as plt\n",
    "import random"
   ]
  },
  {
   "cell_type": "code",
   "execution_count": 3,
   "metadata": {},
   "outputs": [
    {
     "name": "stdout",
     "output_type": "stream",
     "text": [
      "Extracting MNIST_data/train-images-idx3-ubyte.gz\n",
      "Extracting MNIST_data/train-labels-idx1-ubyte.gz\n",
      "Extracting MNIST_data/t10k-images-idx3-ubyte.gz\n",
      "Extracting MNIST_data/t10k-labels-idx1-ubyte.gz\n"
     ]
    }
   ],
   "source": [
    "from tensorflow.examples.tutorials.mnist import input_data\n",
    "\n",
    "mnist = input_data.read_data_sets( \"MNIST_data/\", one_hot=True )"
   ]
  },
  {
   "cell_type": "code",
   "execution_count": 4,
   "metadata": {},
   "outputs": [
    {
     "name": "stdout",
     "output_type": "stream",
     "text": [
      "MNIST training example size:  55000\n"
     ]
    }
   ],
   "source": [
    "# parameters\n",
    "tf.set_random_seed(777)\n",
    "nb_classes = 10\n",
    "image_shape = 28 * 28 \n",
    "nn_layer_size = 512\n",
    "\n",
    "learning_rate = 0.001\n",
    "num_epochs = 101\n",
    "batch_size = 100\n",
    "num_iterations = int( mnist.train.num_examples / batch_size )\n",
    "print( \"MNIST training example size: \", mnist.train.num_examples )\n",
    "\n",
    "# dropout (keep_prob) rate  0.7 on training, but should be 1 for testing\n",
    "keep_prob = tf.placeholder(tf.float32)"
   ]
  },
  {
   "cell_type": "code",
   "execution_count": 5,
   "metadata": {},
   "outputs": [],
   "source": [
    "X = tf.placeholder( tf.float32, [None, image_shape ])\n",
    "Y = tf.placeholder( tf.float32, [None, nb_classes ] )\n",
    "\n",
    "# weights & bias for nn layers\n",
    "W1 = tf.get_variable(\"W_1\", shape=[ image_shape, nn_layer_size ], initializer=tf.contrib.layers.xavier_initializer())\n",
    "b1 = tf.Variable( tf.random_normal( [ nn_layer_size ] ) )\n",
    "L1 = tf.nn.relu( tf.matmul(X, W1) + b1 )\n",
    "L1 = tf.nn.dropout( L1, keep_prob=keep_prob )\n",
    "\n",
    "W2 = tf.get_variable(\"W_2\", shape=[ nn_layer_size, nn_layer_size ], initializer=tf.contrib.layers.xavier_initializer())\n",
    "b2 = tf.Variable( tf.random_normal( [ nn_layer_size ] ) )\n",
    "L2 = tf.nn.relu( tf.matmul(L1, W2) + b2 )\n",
    "L2 = tf.nn.dropout( L2, keep_prob=keep_prob )\n",
    "\n",
    "W3 = tf.get_variable(\"W_3\", shape=[ nn_layer_size, nn_layer_size ], initializer=tf.contrib.layers.xavier_initializer())\n",
    "b3 = tf.Variable( tf.random_normal( [ nn_layer_size ] ) )\n",
    "L3 = tf.nn.relu( tf.matmul(L2, W3) + b3 )\n",
    "L3 = tf.nn.dropout( L3, keep_prob=keep_prob )\n",
    "\n",
    "W4 = tf.get_variable(\"W_4\", shape=[ nn_layer_size, nn_layer_size ], initializer=tf.contrib.layers.xavier_initializer())\n",
    "b4 = tf.Variable( tf.random_normal( [ nn_layer_size ] ) )\n",
    "L4 = tf.nn.relu( tf.matmul(L3, W4) + b4 )\n",
    "L4 = tf.nn.dropout( L3, keep_prob=keep_prob )\n",
    "\n",
    "W5 = tf.get_variable(\"W_5\", shape=[ nn_layer_size, nb_classes ], initializer=tf.contrib.layers.xavier_initializer())\n",
    "b5 = tf.Variable( tf.random_normal( [ nb_classes ] ) )\n",
    "H = tf.matmul(L4, W5) + b5\n"
   ]
  },
  {
   "cell_type": "code",
   "execution_count": 6,
   "metadata": {},
   "outputs": [],
   "source": [
    "# Hypothesis (using softmax)\n",
    "cost = tf.reduce_mean( tf.nn.softmax_cross_entropy_with_logits_v2( logits=H, labels=Y ) )\n",
    "optimizer = tf.train.AdamOptimizer(learning_rate=learning_rate).minimize(cost)"
   ]
  },
  {
   "cell_type": "code",
   "execution_count": 8,
   "metadata": {},
   "outputs": [
    {
     "name": "stdout",
     "output_type": "stream",
     "text": [
      "Epoch: 0001, Cost: 0.446349617\n",
      "Epoch: 0011, Cost: 0.052740080\n",
      "Epoch: 0021, Cost: 0.033689203\n",
      "Epoch: 0031, Cost: 0.028034579\n",
      "Epoch: 0041, Cost: 0.024578928\n",
      "Epoch: 0051, Cost: 0.021766443\n",
      "Epoch: 0061, Cost: 0.018829662\n",
      "Epoch: 0071, Cost: 0.019878834\n",
      "Epoch: 0081, Cost: 0.021220202\n",
      "Epoch: 0091, Cost: 0.020092990\n",
      "Epoch: 0101, Cost: 0.018759096\n",
      "Learning finished\n"
     ]
    }
   ],
   "source": [
    "sess = tf.Session() \n",
    "\n",
    "# Initialize TensorFlow variables\n",
    "sess.run(tf.global_variables_initializer())\n",
    "\n",
    "# Training cycle\n",
    "for epoch in range(num_epochs):\n",
    "    avg_cost = 0\n",
    "\n",
    "    for i in range(num_iterations):\n",
    "        batch_xs, batch_ys = mnist.train.next_batch(batch_size)\n",
    "        feed_dict = {X: batch_xs, Y: batch_ys, keep_prob: 0.7}\n",
    "        _, cost_val = sess.run( [ optimizer, cost ], feed_dict=feed_dict )\n",
    "        avg_cost += cost_val / num_iterations\n",
    "\n",
    "    if epoch % 10 == 0:\n",
    "        print(\"Epoch: {:04d}, Cost: {:.9f}\".format(epoch + 1, avg_cost))\n",
    "\n",
    "print(\"Learning finished\")"
   ]
  },
  {
   "cell_type": "code",
   "execution_count": 10,
   "metadata": {},
   "outputs": [
    {
     "name": "stdout",
     "output_type": "stream",
     "text": [
      "Accuracy:  0.9827\n"
     ]
    }
   ],
   "source": [
    "correct_prediction = tf.equal(tf.argmax( H, 1), tf.argmax(Y, 1))\n",
    "accuracy = tf.reduce_mean( tf.cast( correct_prediction, tf.float32 ) )\n",
    "\n",
    "print(\n",
    "    \"Accuracy: \",\n",
    "    accuracy.eval(\n",
    "        session=sess, feed_dict={X: mnist.test.images, Y: mnist.test.labels, keep_prob: 1}\n",
    "    ),\n",
    ")"
   ]
  },
  {
   "cell_type": "code",
   "execution_count": 12,
   "metadata": {},
   "outputs": [
    {
     "name": "stdout",
     "output_type": "stream",
     "text": [
      "Label:  [1]\n",
      "Prediction:  [1]\n"
     ]
    },
    {
     "data": {
      "image/png": "[encoded data removed]",
      "text/plain": [
       "<Figure size 432x288 with 1 Axes>"
      ]
     },
     "metadata": {
      "needs_background": "light"
     },
     "output_type": "display_data"
    }
   ],
   "source": [
    "# Get one and predict\n",
    "r = random.randint(0, mnist.test.num_examples - 1)\n",
    "print(\"Label: \", sess.run(tf.argmax(mnist.test.labels[r : r + 1], 1)))\n",
    "print(\n",
    "    \"Prediction: \",\n",
    "    sess.run(tf.argmax( H, 1), feed_dict={X: mnist.test.images[r : r + 1], keep_prob: 1}),\n",
    ")\n",
    "\n",
    "plt.imshow(\n",
    "    mnist.test.images[r : r + 1].reshape(28, 28),\n",
    "    cmap=\"Greys\",\n",
    "    interpolation=\"nearest\",\n",
    ")\n",
    "plt.show()\n",
    "\n",
    "sess.close()"
   ]
  },
  {
   "cell_type": "code",
   "execution_count": null,
   "metadata": {},
   "outputs": [],
   "source": []
  }
 ],
 "metadata": {
  "kernelspec": {
   "display_name": "Python 3",
   "language": "python",
   "name": "python3"
  },
  "language_info": {
   "codemirror_mode": {
    "name": "ipython",
    "version": 3
   },
   "file_extension": ".py",
   "mimetype": "text/x-python",
   "name": "python",
   "nbconvert_exporter": "python",
   "pygments_lexer": "ipython3",
   "version": "3.6.8"
  }
 },
 "nbformat": 4,
 "nbformat_minor": 2
}
