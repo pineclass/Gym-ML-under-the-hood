{
 "cells": [
  {
   "cell_type": "markdown",
   "metadata": {},
   "source": [
    "# MNIST classifier\n"
   ]
  },
  {
   "cell_type": "markdown",
   "metadata": {},
   "source": [
    "## REF\n",
    "\n",
    "* [모두를 위한 머신러닝/딥러닝 강의](https://hunkim.github.io/ml/)\n",
    "  - [lab-07-4-mnist_introduction.py](https://github.com/hunkim/DeepLearningZeroToAll/blob/master/lab-07-4-mnist_introduction.py)\n",
    "  - [lab-10-1-mnist_softmax.py](https://github.com/hunkim/DeepLearningZeroToAll/blob/master/lab-10-1-mnist_softmax.py)\n",
    "* [Tensorflow Official Tutorials](https://www.tensorflow.org/tutorials)\n",
    "  - [MNIST 초급](https://tensorflowkorea.gitbooks.io/tensorflow-kr/content/g3doc/tutorials/mnist/beginners/)\n",
    "  - [MNIST 고급](https://tensorflowkorea.gitbooks.io/tensorflow-kr/content/g3doc/tutorials/mnist/pros/) "
   ]
  },
  {
   "cell_type": "code",
   "execution_count": 13,
   "metadata": {},
   "outputs": [],
   "source": [
    "import tensorflow as tf\n",
    "import matplotlib.pyplot as plt\n",
    "import random"
   ]
  },
  {
   "cell_type": "code",
   "execution_count": 14,
   "metadata": {},
   "outputs": [
    {
     "name": "stdout",
     "output_type": "stream",
     "text": [
      "Extracting MNIST_data/train-images-idx3-ubyte.gz\n",
      "Extracting MNIST_data/train-labels-idx1-ubyte.gz\n",
      "Extracting MNIST_data/t10k-images-idx3-ubyte.gz\n",
      "Extracting MNIST_data/t10k-labels-idx1-ubyte.gz\n"
     ]
    }
   ],
   "source": [
    "from tensorflow.examples.tutorials.mnist import input_data\n",
    "\n",
    "mnist = input_data.read_data_sets( \"MNIST_data/\", one_hot=True )"
   ]
  },
  {
   "cell_type": "code",
   "execution_count": 15,
   "metadata": {},
   "outputs": [
    {
     "name": "stdout",
     "output_type": "stream",
     "text": [
      "MNIST training example size:  55000\n"
     ]
    }
   ],
   "source": [
    "# parameters\n",
    "tf.set_random_seed(777)\n",
    "nb_classes = 10\n",
    "image_shape = 28 * 28 \n",
    "\n",
    "learning_rate = 0.02\n",
    "num_epochs = 201\n",
    "batch_size = 100\n",
    "num_iterations = int( mnist.train.num_examples / batch_size )\n",
    "print( \"MNIST training example size: \", mnist.train.num_examples )"
   ]
  },
  {
   "cell_type": "code",
   "execution_count": 16,
   "metadata": {},
   "outputs": [],
   "source": [
    "X = tf.placeholder( tf.float32, [None, image_shape ])\n",
    "Y = tf.placeholder( tf.float32, [None, nb_classes ] )\n",
    "\n",
    "W = tf.Variable( tf.random_normal( [ image_shape, nb_classes ] ) )\n",
    "b = tf.Variable( tf.random_normal( [ nb_classes ] ) )\n",
    "H = tf.nn.softmax( tf.matmul(X, W) + b )   # Hypothesis (using softmax)"
   ]
  },
  {
   "cell_type": "code",
   "execution_count": 17,
   "metadata": {},
   "outputs": [],
   "source": [
    "cost = tf.reduce_mean( -tf.reduce_sum( Y * tf.log( H ), axis=1 ) )\n",
    "optimizer = tf.train.GradientDescentOptimizer( learning_rate=learning_rate ).minimize( cost )\n",
    "# train = tf.train.AdamOptimizer(learning_rate=learning_rate).minimize(cost)"
   ]
  },
  {
   "cell_type": "code",
   "execution_count": 18,
   "metadata": {},
   "outputs": [
    {
     "name": "stdout",
     "output_type": "stream",
     "text": [
      "Epoch: 0001, Cost: 5.946441277\n",
      "Epoch: 0011, Cost: 0.959720183\n",
      "Epoch: 0021, Cost: 0.743450016\n",
      "Epoch: 0031, Cost: 0.645894626\n",
      "Epoch: 0041, Cost: 0.585648371\n",
      "Epoch: 0051, Cost: 0.543468940\n",
      "Epoch: 0061, Cost: 0.511641595\n",
      "Epoch: 0071, Cost: 0.486449890\n",
      "Epoch: 0081, Cost: 0.465602466\n",
      "Epoch: 0091, Cost: 0.448446723\n",
      "Epoch: 0101, Cost: 0.433654554\n",
      "Epoch: 0111, Cost: 0.420973000\n",
      "Epoch: 0121, Cost: 0.409684491\n",
      "Epoch: 0131, Cost: 0.399766792\n",
      "Epoch: 0141, Cost: 0.390865499\n",
      "Epoch: 0151, Cost: 0.382907256\n",
      "Epoch: 0161, Cost: 0.375535280\n",
      "Epoch: 0171, Cost: 0.368941636\n",
      "Epoch: 0181, Cost: 0.362832275\n",
      "Epoch: 0191, Cost: 0.357198947\n",
      "Epoch: 0201, Cost: 0.352077644\n",
      "Learning finished\n"
     ]
    }
   ],
   "source": [
    "sess = tf.Session() \n",
    "\n",
    "# Initialize TensorFlow variables\n",
    "sess.run(tf.global_variables_initializer())\n",
    "# Training cycle\n",
    "for epoch in range(num_epochs):\n",
    "    avg_cost = 0\n",
    "\n",
    "    for i in range(num_iterations):\n",
    "        batch_xs, batch_ys = mnist.train.next_batch(batch_size)\n",
    "        _, cost_val = sess.run( [ optimizer, cost ], feed_dict={X: batch_xs, Y: batch_ys})\n",
    "        avg_cost += cost_val / num_iterations\n",
    "\n",
    "    if epoch % 10 == 0:\n",
    "        print(\"Epoch: {:04d}, Cost: {:.9f}\".format(epoch + 1, avg_cost))\n",
    "\n",
    "print(\"Learning finished\")"
   ]
  },
  {
   "cell_type": "code",
   "execution_count": 19,
   "metadata": {},
   "outputs": [
    {
     "name": "stdout",
     "output_type": "stream",
     "text": [
      "Accuracy:  0.9041\n"
     ]
    }
   ],
   "source": [
    "is_correct = tf.equal( tf.argmax(H, axis=1), tf.argmax(Y, axis=1) )\n",
    "accuracy = tf.reduce_mean( tf.cast( is_correct, tf.float32 ) )\n",
    "\n",
    "print(\n",
    "    \"Accuracy: \",\n",
    "    accuracy.eval(\n",
    "        session=sess, feed_dict={X: mnist.test.images, Y: mnist.test.labels}\n",
    "    ),\n",
    ")"
   ]
  },
  {
   "cell_type": "code",
   "execution_count": 20,
   "metadata": {},
   "outputs": [
    {
     "name": "stdout",
     "output_type": "stream",
     "text": [
      "Label:  [6]\n",
      "Prediction:  [6]\n"
     ]
    },
    {
     "data": {
      "image/png": "[encoded data removed]",
      "text/plain": [
       "<Figure size 432x288 with 1 Axes>"
      ]
     },
     "metadata": {
      "needs_background": "light"
     },
     "output_type": "display_data"
    }
   ],
   "source": [
    "# Get one and predict\n",
    "r = random.randint(0, mnist.test.num_examples - 1)\n",
    "print(\"Label: \", sess.run(tf.argmax(mnist.test.labels[r : r + 1], 1)))\n",
    "print(\n",
    "    \"Prediction: \",\n",
    "    sess.run(tf.argmax( H, 1), feed_dict={X: mnist.test.images[r : r + 1]}),\n",
    ")\n",
    "\n",
    "plt.imshow(\n",
    "    mnist.test.images[r : r + 1].reshape(28, 28),\n",
    "    cmap=\"Greys\",\n",
    "    interpolation=\"nearest\",\n",
    ")\n",
    "plt.show()\n",
    "\n",
    "sess.close()"
   ]
  },
  {
   "cell_type": "code",
   "execution_count": null,
   "metadata": {},
   "outputs": [],
   "source": []
  }
 ],
 "metadata": {
  "kernelspec": {
   "display_name": "Python 3",
   "language": "python",
   "name": "python3"
  },
  "language_info": {
   "codemirror_mode": {
    "name": "ipython",
    "version": 3
   },
   "file_extension": ".py",
   "mimetype": "text/x-python",
   "name": "python",
   "nbconvert_exporter": "python",
   "pygments_lexer": "ipython3",
   "version": "3.6.8"
  }
 },
 "nbformat": 4,
 "nbformat_minor": 2
}
